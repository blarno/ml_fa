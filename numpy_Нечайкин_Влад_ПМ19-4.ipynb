{
 "cells": [
  {
   "cell_type": "markdown",
   "id": "e6611881",
   "metadata": {},
   "source": [
    "1.\tЗагрузите данные в ноутбук"
   ]
  },
  {
   "cell_type": "code",
   "execution_count": 1,
   "id": "364afab2",
   "metadata": {},
   "outputs": [],
   "source": [
    "file = 'data/Вариант 1.csv'"
   ]
  },
  {
   "cell_type": "code",
   "execution_count": 3,
   "id": "b702005a",
   "metadata": {},
   "outputs": [
    {
     "data": {
      "text/plain": [
       "array([['1', '117', '11', 'М', '341', '1+++--1+-++---0---------0',\n",
       "        '0(1)0(3)0(1)0(3)0(2)0(2)0(3)0(3)0(2)0(2)0(1)0(1)', '', '8',\n",
       "        '20', '24'],\n",
       "       ['2', '148', '12А', 'М', '338', '1+---+0--+---+0----++-+-0',\n",
       "        '0(1)0(3)0(1)0(3)0(2)0(2)0(3)0(3)0(2)0(2)0(1)0(1)', '', '8',\n",
       "        '20', '24'],\n",
       "       ['3', '152', '13', 'Ж', '104', '2-----0--+----1---------1',\n",
       "        '0(1)0(3)0(1)0(3)0(2)0(2)0(3)1(3)0(2)1(2)1(1)1(1)', '', '9',\n",
       "        '22', '24'],\n",
       "       ['4', '152', '13', 'М', '104', '1+--+-0++-----2----++---0',\n",
       "        '0(1)0(3)0(1)0(3)0(2)0(2)0(3)0(3)0(2)0(2)0(1)0(1)', '', '9',\n",
       "        '22', '24'],\n",
       "       ['5', '132', '11', 'М', '337', '1++---0-+++---1----+----2',\n",
       "        '0(1)0(3)0(1)0(3)0(2)0(2)0(3)0(3)0(2)0(2)0(1)0(1)', '', '10',\n",
       "        '24', '24']], dtype='<U48')"
      ]
     },
     "execution_count": 3,
     "metadata": {},
     "output_type": "execute_result"
    }
   ],
   "source": [
    "import numpy as np\n",
    "data = np.loadtxt(open(file,'rt').readlines()[:-1],skiprows = 3,delimiter = ',',dtype=(str))\n",
    "data[:5]"
   ]
  },
  {
   "cell_type": "code",
   "execution_count": 134,
   "id": "2ab66c72",
   "metadata": {},
   "outputs": [
    {
     "data": {
      "text/plain": [
       "array([['01-Русский язык', '', '', '', '', '', '', '', '', '', ''],\n",
       "       ['', '', '', '', '', '', '', '', '', '', ''],\n",
       "       ['№', '№ школы', 'Класс', 'Пол', 'Номер варианта',\n",
       "        'Задания с кратким ответом', 'Задания с развёрнутым ответом',\n",
       "        'Устная часть', 'Первичный балл', 'Балл', 'Минимальный балл']],\n",
       "      dtype='<U29')"
      ]
     },
     "execution_count": 134,
     "metadata": {},
     "output_type": "execute_result"
    }
   ],
   "source": [
    "header = np.loadtxt(open(file,'rt').readlines()[:3],delimiter = ',',dtype=(str),skiprows = 0)\n",
    "if 'Русский язык' in header[0][0]:\n",
    "    grades = [23,56,71]\n",
    "if 'Математика' in header[0][0]:\n",
    "    grades = [24,46,64]\n",
    "header"
   ]
  },
  {
   "cell_type": "markdown",
   "id": "b3131c1f",
   "metadata": {},
   "source": [
    "2.\tСделайте описательную статистику по набранному баллу"
   ]
  },
  {
   "cell_type": "code",
   "execution_count": 135,
   "id": "7b61b4c1",
   "metadata": {},
   "outputs": [],
   "source": [
    "from scipy import stats"
   ]
  },
  {
   "cell_type": "code",
   "execution_count": 136,
   "id": "6af52fde",
   "metadata": {},
   "outputs": [
    {
     "data": {
      "text/plain": [
       "DescribeResult(nobs=3048, minmax=(20, 100), mean=72.76902887139107, variance=186.7297001396322, skewness=-0.3536081528968018, kurtosis=-0.04222325713421471)"
      ]
     },
     "execution_count": 136,
     "metadata": {},
     "output_type": "execute_result"
    }
   ],
   "source": [
    "descriptive_stats = stats.describe(data[:,9].astype(int))\n",
    "descriptive_stats"
   ]
  },
  {
   "cell_type": "markdown",
   "id": "d6cf0e82",
   "metadata": {},
   "source": [
    "3.\tНайдите процент учащихся, выполнивших работу ниже среднего"
   ]
  },
  {
   "cell_type": "code",
   "execution_count": 137,
   "id": "941decf0",
   "metadata": {},
   "outputs": [
    {
     "data": {
      "text/plain": [
       "0.5127952755905512"
      ]
     },
     "execution_count": 137,
     "metadata": {},
     "output_type": "execute_result"
    }
   ],
   "source": [
    "data[data[:,9].astype(int)<descriptive_stats.mean].shape[0]/data.shape[0]"
   ]
  },
  {
   "cell_type": "markdown",
   "id": "16c8b6c0",
   "metadata": {},
   "source": [
    "4.\tНайти процент учащихся не сдавших экзамен"
   ]
  },
  {
   "cell_type": "code",
   "execution_count": 138,
   "id": "d525ec0d",
   "metadata": {},
   "outputs": [
    {
     "data": {
      "text/plain": [
       "0.0013123359580052493"
      ]
     },
     "execution_count": 138,
     "metadata": {},
     "output_type": "execute_result"
    }
   ],
   "source": [
    "bad_mark = data[data[:,9].astype(int)<data[:,10].astype(int)].shape[0]/data.shape[0]\n",
    "bad_mark"
   ]
  },
  {
   "cell_type": "markdown",
   "id": "cb30f325",
   "metadata": {},
   "source": [
    "5.\tПостройте круговую диаграмму, показывающую распределение сдавших и не сдавших экзамен"
   ]
  },
  {
   "cell_type": "code",
   "execution_count": 139,
   "id": "007a7bc2",
   "metadata": {},
   "outputs": [
    {
     "data": {
      "image/png": "[encoded data removed]",
      "text/plain": [
       "<Figure size 432x288 with 1 Axes>"
      ]
     },
     "metadata": {},
     "output_type": "display_data"
    }
   ],
   "source": [
    "import matplotlib.pyplot as plt\n",
    "import seaborn as sns\n",
    "\n",
    "plt.pie([bad_mark,1-bad_mark],labels = ['Не сдали','Сдали'])\n",
    "plt.show()"
   ]
  },
  {
   "cell_type": "markdown",
   "id": "3685d647",
   "metadata": {},
   "source": [
    "6.\tПостройте ядерную оценку плотности распределению баллов за экзамен"
   ]
  },
  {
   "cell_type": "code",
   "execution_count": 140,
   "id": "12d71eab",
   "metadata": {},
   "outputs": [
    {
     "data": {
      "text/plain": [
       "<AxesSubplot:ylabel='Density'>"
      ]
     },
     "execution_count": 140,
     "metadata": {},
     "output_type": "execute_result"
    },
    {
     "data": {
      "image/png": "[encoded data removed]",
      "text/plain": [
       "<Figure size 432x288 with 1 Axes>"
      ]
     },
     "metadata": {
      "needs_background": "light"
     },
     "output_type": "display_data"
    }
   ],
   "source": [
    "sns.kdeplot(data[:,9].astype(int))"
   ]
  },
  {
   "cell_type": "markdown",
   "id": "0fffc45a",
   "metadata": {},
   "source": [
    "7.\tНайдите процентное соотношение учащихся, сдавших экзамен на «отлично», «хорошо», «удовлетворительно», «неудовлетворительно»."
   ]
  },
  {
   "cell_type": "code",
   "execution_count": 141,
   "id": "bafe09b8",
   "metadata": {},
   "outputs": [],
   "source": [
    "scores = data[:,9].astype(int)\n",
    "neud = (scores < grades[0]).sum()/scores.shape[0]\n",
    "ud = ((scores > grades[0]) & (scores <= grades[1])).sum()/scores.shape[0]\n",
    "hor = ((scores > grades[1]) & (scores <= grades[2])).sum()/scores.shape[0]\n",
    "otl = (scores > grades[2]).sum()/scores.shape[0]"
   ]
  },
  {
   "cell_type": "code",
   "execution_count": 142,
   "id": "9fa72d7c",
   "metadata": {},
   "outputs": [
    {
     "data": {
      "image/png": "[encoded data removed]",
      "text/plain": [
       "<Figure size 432x288 with 1 Axes>"
      ]
     },
     "metadata": {},
     "output_type": "display_data"
    }
   ],
   "source": [
    "plt.pie([neud,ud,hor,otl],labels = ['Неуд','Уд','Хор','Отл'])\n",
    "plt.show()"
   ]
  },
  {
   "cell_type": "markdown",
   "id": "6e7b2d93",
   "metadata": {},
   "source": [
    "8.\tКакое процентное соотношение юношей и девушек писало данный экзамен? "
   ]
  },
  {
   "cell_type": "code",
   "execution_count": 143,
   "id": "21b809fb",
   "metadata": {},
   "outputs": [
    {
     "data": {
      "text/plain": [
       "(0.4202755905511811, 0.579724409448819)"
      ]
     },
     "execution_count": 143,
     "metadata": {},
     "output_type": "execute_result"
    }
   ],
   "source": [
    "man = (data[:,3] =='М').sum()/data[:,3].shape[0]\n",
    "woman = 1-man\n",
    "man,woman"
   ]
  },
  {
   "cell_type": "markdown",
   "id": "aadb2281",
   "metadata": {},
   "source": [
    "9.\tСколько школ принимало участие в экзамене?"
   ]
  },
  {
   "cell_type": "code",
   "execution_count": 144,
   "id": "b5ecc056",
   "metadata": {},
   "outputs": [
    {
     "data": {
      "text/plain": [
       "24"
      ]
     },
     "execution_count": 144,
     "metadata": {},
     "output_type": "execute_result"
    }
   ],
   "source": [
    "len(list(set(data[:,1].tolist())))"
   ]
  },
  {
   "cell_type": "markdown",
   "id": "8db65761",
   "metadata": {},
   "source": [
    "1.\tСколько всего заданий с кратким ответом? С развернутым ответом?"
   ]
  },
  {
   "cell_type": "code",
   "execution_count": 7,
   "id": "a131b50a",
   "metadata": {},
   "outputs": [
    {
     "data": {
      "text/plain": [
       "25"
      ]
     },
     "execution_count": 7,
     "metadata": {},
     "output_type": "execute_result"
    }
   ],
   "source": [
    "mylen = np.vectorize(len)\n",
    "short = mylen(data[:,5])[0]\n",
    "short"
   ]
  },
  {
   "cell_type": "code",
   "execution_count": 8,
   "id": "f773b1e5",
   "metadata": {},
   "outputs": [
    {
     "data": {
      "text/plain": [
       "12"
      ]
     },
     "execution_count": 8,
     "metadata": {},
     "output_type": "execute_result"
    }
   ],
   "source": [
    "long = int(mylen(data[:,6])[0]/4)\n",
    "long"
   ]
  },
  {
   "cell_type": "code",
   "execution_count": 147,
   "id": "ef62200f",
   "metadata": {},
   "outputs": [
    {
     "data": {
      "text/plain": [
       "array(['0(1)0(3)0(1)0(3)0(2)0(2)0(3)0(3)0(2)0(2)0(1)0(1)',\n",
       "       '0(1)0(3)0(1)0(3)0(2)0(2)0(3)0(3)0(2)0(2)0(1)0(1)',\n",
       "       '0(1)0(3)0(1)0(3)0(2)0(2)0(3)1(3)0(2)1(2)1(1)1(1)', ...,\n",
       "       '1(1)3(3)1(1)3(3)2(2)2(2)3(3)3(3)2(2)2(2)1(1)1(1)',\n",
       "       '1(1)3(3)1(1)3(3)2(2)2(2)3(3)3(3)2(2)2(2)1(1)1(1)',\n",
       "       '1(1)3(3)1(1)3(3)2(2)2(2)3(3)3(3)2(2)2(2)1(1)1(1)'], dtype='<U48')"
      ]
     },
     "execution_count": 147,
     "metadata": {},
     "output_type": "execute_result"
    }
   ],
   "source": [
    "data[:,6]"
   ]
  },
  {
   "cell_type": "markdown",
   "id": "5dfd88b1",
   "metadata": {},
   "source": [
    "2.\tПусть задания с кратким ответом будут задания типа В. Соответственно всего по экзамену вопросов класса В: В 1 … В к Посчитайте процент выполненных и невыполненных заданий по каждому вопросу класса В. "
   ]
  },
  {
   "cell_type": "code",
   "execution_count": 148,
   "id": "330fb7ae",
   "metadata": {},
   "outputs": [],
   "source": [
    "def b_score(data,number):\n",
    "    scores = np.array([x[number-1] for x in data])\n",
    "    percent_bad = ((scores =='-')|(scores =='0')).sum()/scores.shape[0]\n",
    "    print(f'Номер задания {number}')\n",
    "    plt.pie([percent_bad,1-percent_bad],labels = ['Невыполнено','Выполнено'])\n",
    "    plt.show()\n",
    "    return 1-percent_bad,percent_bad"
   ]
  },
  {
   "cell_type": "code",
   "execution_count": 149,
   "id": "d6c8dd58",
   "metadata": {},
   "outputs": [
    {
     "name": "stdout",
     "output_type": "stream",
     "text": [
      "Номер задания 2\n"
     ]
    },
    {
     "data": {
      "image/png": "[encoded data removed]",
      "text/plain": [
       "<Figure size 432x288 with 1 Axes>"
      ]
     },
     "metadata": {},
     "output_type": "display_data"
    },
    {
     "data": {
      "text/plain": [
       "(0.9288057742782152, 0.07119422572178477)"
      ]
     },
     "execution_count": 149,
     "metadata": {},
     "output_type": "execute_result"
    }
   ],
   "source": [
    "b_score(data[:,5],2)"
   ]
  },
  {
   "cell_type": "code",
   "execution_count": 150,
   "id": "f41a9745",
   "metadata": {},
   "outputs": [],
   "source": [
    "def b_all_scores(data):\n",
    "    res_arr = []\n",
    "    for i in range(short):\n",
    "        scores = np.array([x[i] for x in data])\n",
    "        percent_bad = ((scores =='-')|(scores =='0')).sum()/scores.shape[0]\n",
    "        res_arr.append((1-percent_bad,percent_bad))\n",
    "    return res_arr"
   ]
  },
  {
   "cell_type": "code",
   "execution_count": 151,
   "id": "da7450fe",
   "metadata": {},
   "outputs": [
    {
     "data": {
      "text/plain": [
       "[(0.9868766404199475, 0.013123359580052493),\n",
       " (0.9288057742782152, 0.07119422572178477),\n",
       " (0.8733595800524935, 0.12664041994750655),\n",
       " (0.7729658792650919, 0.22703412073490814),\n",
       " (0.5895669291338583, 0.4104330708661417),\n",
       " (0.9061679790026247, 0.09383202099737532),\n",
       " (0.9504593175853019, 0.04954068241469816),\n",
       " (0.7559055118110236, 0.2440944881889764),\n",
       " (0.8412073490813649, 0.15879265091863518),\n",
       " (0.9688320209973753, 0.031167979002624673),\n",
       " (0.931758530183727, 0.06824146981627296),\n",
       " (0.755249343832021, 0.244750656167979),\n",
       " (0.8313648293963255, 0.16863517060367453),\n",
       " (0.7017716535433071, 0.29822834645669294),\n",
       " (0.9760498687664042, 0.023950131233595802),\n",
       " (0.6896325459317585, 0.31036745406824146),\n",
       " (0.672244094488189, 0.327755905511811),\n",
       " (0.7417979002624672, 0.25820209973753283),\n",
       " (0.6935695538057742, 0.3064304461942257),\n",
       " (0.8274278215223096, 0.1725721784776903),\n",
       " (0.7185039370078741, 0.281496062992126),\n",
       " (0.48064304461942253, 0.5193569553805775),\n",
       " (0.7654199475065617, 0.23458005249343833),\n",
       " (0.24770341207349078, 0.7522965879265092),\n",
       " (0.9543963254593176, 0.04560367454068241)]"
      ]
     },
     "execution_count": 151,
     "metadata": {},
     "output_type": "execute_result"
    }
   ],
   "source": [
    "b_all_scores(data[:,5])"
   ]
  },
  {
   "cell_type": "markdown",
   "id": "b5c12f5b",
   "metadata": {},
   "source": [
    "3.\tАналогично и с типом С (ответы с развернутым ответом)"
   ]
  },
  {
   "cell_type": "code",
   "execution_count": 152,
   "id": "ad0213f0",
   "metadata": {},
   "outputs": [],
   "source": [
    "def c_score(data,number):\n",
    "    scores = np.array([x.split(')')[number-1][0] for x in data])\n",
    "    percent_bad = ((scores =='-')|(scores =='0')).sum()/scores.shape[0]\n",
    "    print(f'Номер задания {25 + number}')\n",
    "    plt.pie([percent_bad,1-percent_bad],labels = ['Невыполнено','Выполнено'])\n",
    "    plt.show()\n",
    "    return 1-percent_bad,percent_bad"
   ]
  },
  {
   "cell_type": "code",
   "execution_count": 153,
   "id": "01384090",
   "metadata": {},
   "outputs": [
    {
     "name": "stdout",
     "output_type": "stream",
     "text": [
      "Номер задания 32\n"
     ]
    },
    {
     "data": {
      "image/png": "[encoded data removed]",
      "text/plain": [
       "<Figure size 432x288 with 1 Axes>"
      ]
     },
     "metadata": {},
     "output_type": "display_data"
    },
    {
     "data": {
      "text/plain": [
       "(0.9238845144356955, 0.07611548556430446)"
      ]
     },
     "execution_count": 153,
     "metadata": {},
     "output_type": "execute_result"
    }
   ],
   "source": [
    "c_score(data[:,6],7)"
   ]
  },
  {
   "cell_type": "code",
   "execution_count": 11,
   "id": "c1f710e8",
   "metadata": {},
   "outputs": [],
   "source": [
    "def c_all_scores(data):\n",
    "    res_arr = []\n",
    "    for i in range(long):\n",
    "        scores = np.array([x.split(')')[i][0] for x in data])\n",
    "        percent_bad = ((scores =='-')|(scores =='0')).sum()/scores.shape[0]\n",
    "        res_arr.append((1-percent_bad,percent_bad))\n",
    "    return res_arr"
   ]
  },
  {
   "cell_type": "code",
   "execution_count": 12,
   "id": "0353db16",
   "metadata": {},
   "outputs": [
    {
     "data": {
      "text/plain": [
       "[(0.9675196850393701, 0.03248031496062992),\n",
       " (0.9471784776902887, 0.05282152230971129),\n",
       " (0.9445538057742782, 0.055446194225721786),\n",
       " (0.9425853018372703, 0.057414698162729656),\n",
       " (0.9645669291338582, 0.03543307086614173),\n",
       " (0.9744094488188977, 0.025590551181102362),\n",
       " (0.9238845144356955, 0.07611548556430446),\n",
       " (0.8149606299212598, 0.18503937007874016),\n",
       " (0.8418635170603674, 0.15813648293963253),\n",
       " (0.8172572178477691, 0.18274278215223097),\n",
       " (0.97998687664042, 0.020013123359580054),\n",
       " (0.8454724409448819, 0.1545275590551181)]"
      ]
     },
     "execution_count": 12,
     "metadata": {},
     "output_type": "execute_result"
    }
   ],
   "source": [
    "c_all_scores(data[:,6])"
   ]
  },
  {
   "cell_type": "markdown",
   "id": "ba38885b",
   "metadata": {},
   "source": [
    "4.\tСделайте анализ по двум школам:\n",
    "a.\tпо всем выполненным заданиям типа В\n",
    "b.\tпо заданиям типа С больше 50%\n",
    "c.\tпо среднему балу юношей и девушек\n"
   ]
  },
  {
   "cell_type": "code",
   "execution_count": 156,
   "id": "b2ddfb60",
   "metadata": {},
   "outputs": [
    {
     "data": {
      "text/plain": [
       "[(0.9578947368421052, 0.042105263157894736),\n",
       " (0.8842105263157894, 0.11578947368421053),\n",
       " (0.8421052631578947, 0.15789473684210525),\n",
       " (0.8421052631578947, 0.15789473684210525),\n",
       " (0.5894736842105264, 0.4105263157894737),\n",
       " (0.9157894736842105, 0.08421052631578947),\n",
       " (0.968421052631579, 0.031578947368421054),\n",
       " (0.7789473684210526, 0.22105263157894736),\n",
       " (0.8105263157894737, 0.18947368421052632),\n",
       " (0.9789473684210527, 0.021052631578947368),\n",
       " (0.9473684210526316, 0.05263157894736842),\n",
       " (0.6736842105263158, 0.3263157894736842),\n",
       " (0.7789473684210526, 0.22105263157894736),\n",
       " (0.6526315789473685, 0.3473684210526316),\n",
       " (0.9473684210526316, 0.05263157894736842),\n",
       " (0.736842105263158, 0.2631578947368421),\n",
       " (0.7473684210526316, 0.25263157894736843),\n",
       " (0.736842105263158, 0.2631578947368421),\n",
       " (0.7157894736842105, 0.28421052631578947),\n",
       " (0.8526315789473684, 0.14736842105263157),\n",
       " (0.6105263157894737, 0.3894736842105263),\n",
       " (0.49473684210526314, 0.5052631578947369),\n",
       " (0.7263157894736842, 0.2736842105263158),\n",
       " (0.25263157894736843, 0.7473684210526316),\n",
       " (0.9368421052631579, 0.06315789473684211)]"
      ]
     },
     "execution_count": 156,
     "metadata": {},
     "output_type": "execute_result"
    }
   ],
   "source": [
    "data_sch_117 = data[data[:,1] == '117']\n",
    "b_all_scores(data_sch_117[:,5])"
   ]
  },
  {
   "cell_type": "code",
   "execution_count": 157,
   "id": "e8139514",
   "metadata": {},
   "outputs": [],
   "source": [
    "def c_more_than50(data):\n",
    "    res_arr = []\n",
    "    for i in range(12):\n",
    "        maximum = int(int(data[0].split(')')[i][-1])/2)\n",
    "        scores = np.array([int(x.split(')')[i][0]) for x in data])\n",
    "        percent_good = (scores > maximum).sum()/scores.shape[0]\n",
    "        res_arr.append((percent_good,1-percent_good))\n",
    "    return res_arr"
   ]
  },
  {
   "cell_type": "code",
   "execution_count": 158,
   "id": "efecd96b",
   "metadata": {},
   "outputs": [
    {
     "data": {
      "text/plain": [
       "[(0.9368421052631579, 0.06315789473684208),\n",
       " (0.7894736842105263, 0.21052631578947367),\n",
       " (0.9157894736842105, 0.08421052631578951),\n",
       " (0.7894736842105263, 0.21052631578947367),\n",
       " (0.6526315789473685, 0.34736842105263155),\n",
       " (0.17894736842105263, 0.8210526315789474),\n",
       " (0.7368421052631579, 0.26315789473684215),\n",
       " (0.5052631578947369, 0.49473684210526314),\n",
       " (0.3263157894736842, 0.6736842105263158),\n",
       " (0.12631578947368421, 0.8736842105263158),\n",
       " (0.9578947368421052, 0.04210526315789476),\n",
       " (0.8421052631578947, 0.1578947368421053)]"
      ]
     },
     "execution_count": 158,
     "metadata": {},
     "output_type": "execute_result"
    }
   ],
   "source": [
    "c_more_than50(data_sch_117[:,6])"
   ]
  },
  {
   "cell_type": "code",
   "execution_count": 159,
   "id": "251420f6",
   "metadata": {},
   "outputs": [
    {
     "data": {
      "text/plain": [
       "<AxesSubplot:ylabel='Density'>"
      ]
     },
     "execution_count": 159,
     "metadata": {},
     "output_type": "execute_result"
    },
    {
     "data": {
      "image/png": "[encoded data removed]",
      "text/plain": [
       "<Figure size 432x288 with 1 Axes>"
      ]
     },
     "metadata": {
      "needs_background": "light"
     },
     "output_type": "display_data"
    }
   ],
   "source": [
    "scores_man = data_sch_117[:,9][data_sch_117[:,3]=='М'].astype(int)\n",
    "sns.kdeplot(scores_man.astype(int))"
   ]
  },
  {
   "cell_type": "code",
   "execution_count": 166,
   "id": "cc390363",
   "metadata": {},
   "outputs": [
    {
     "data": {
      "text/plain": [
       "<AxesSubplot:ylabel='Density'>"
      ]
     },
     "execution_count": 166,
     "metadata": {},
     "output_type": "execute_result"
    },
    {
     "data": {
      "image/png": "[encoded data removed]",
      "text/plain": [
       "<Figure size 432x288 with 1 Axes>"
      ]
     },
     "metadata": {
      "needs_background": "light"
     },
     "output_type": "display_data"
    }
   ],
   "source": [
    "scores_woman = data_sch_117[:,9][data_sch_117[:,3]=='Ж'].astype(int)\n",
    "sns.kdeplot(scores_woman.astype(int))"
   ]
  },
  {
   "cell_type": "code",
   "execution_count": 167,
   "id": "9d61c3e2",
   "metadata": {},
   "outputs": [
    {
     "data": {
      "text/plain": [
       "[(1.0, 0.0),\n",
       " (0.948051948051948, 0.05194805194805195),\n",
       " (0.935064935064935, 0.06493506493506493),\n",
       " (0.8441558441558441, 0.15584415584415584),\n",
       " (0.7142857142857143, 0.2857142857142857),\n",
       " (0.9567099567099567, 0.04329004329004329),\n",
       " (0.9783549783549783, 0.021645021645021644),\n",
       " (0.9264069264069263, 0.0735930735930736),\n",
       " (0.9134199134199135, 0.08658008658008658),\n",
       " (0.9826839826839827, 0.017316017316017316),\n",
       " (0.961038961038961, 0.03896103896103896),\n",
       " (0.8658008658008658, 0.1341991341991342),\n",
       " (0.9004329004329005, 0.09956709956709957),\n",
       " (0.8354978354978355, 0.1645021645021645),\n",
       " (0.9956709956709957, 0.004329004329004329),\n",
       " (0.8528138528138528, 0.1471861471861472),\n",
       " (0.8138528138528138, 0.18614718614718614),\n",
       " (0.8787878787878788, 0.12121212121212122),\n",
       " (0.7878787878787878, 0.21212121212121213),\n",
       " (0.9134199134199135, 0.08658008658008658),\n",
       " (0.8658008658008658, 0.1341991341991342),\n",
       " (0.5974025974025974, 0.4025974025974026),\n",
       " (0.8398268398268398, 0.16017316017316016),\n",
       " (0.38528138528138534, 0.6147186147186147),\n",
       " (0.9783549783549783, 0.021645021645021644)]"
      ]
     },
     "execution_count": 167,
     "metadata": {},
     "output_type": "execute_result"
    }
   ],
   "source": [
    "data_sch_147 = data[data[:,1] == '147']\n",
    "b_all_scores(data_sch_147[:,5])"
   ]
  },
  {
   "cell_type": "code",
   "execution_count": 168,
   "id": "6b1481cd",
   "metadata": {},
   "outputs": [
    {
     "data": {
      "text/plain": [
       "[(0.9913419913419913, 0.008658008658008698),\n",
       " (0.9264069264069265, 0.07359307359307354),\n",
       " (0.9783549783549783, 0.02164502164502169),\n",
       " (0.9567099567099567, 0.04329004329004327),\n",
       " (0.8225108225108225, 0.17748917748917747),\n",
       " (0.4805194805194805, 0.5194805194805194),\n",
       " (0.9437229437229437, 0.05627705627705626),\n",
       " (0.7965367965367965, 0.20346320346320346),\n",
       " (0.4935064935064935, 0.5064935064935066),\n",
       " (0.45454545454545453, 0.5454545454545454),\n",
       " (0.9956709956709957, 0.0043290043290042934),\n",
       " (0.9090909090909091, 0.09090909090909094)]"
      ]
     },
     "execution_count": 168,
     "metadata": {},
     "output_type": "execute_result"
    }
   ],
   "source": [
    "c_more_than50(data_sch_147[:,6])"
   ]
  },
  {
   "cell_type": "code",
   "execution_count": 169,
   "id": "4cabf203",
   "metadata": {},
   "outputs": [
    {
     "data": {
      "text/plain": [
       "<AxesSubplot:ylabel='Density'>"
      ]
     },
     "execution_count": 169,
     "metadata": {},
     "output_type": "execute_result"
    },
    {
     "data": {
      "image/png": "[encoded data removed]",
      "text/plain": [
       "<Figure size 432x288 with 1 Axes>"
      ]
     },
     "metadata": {
      "needs_background": "light"
     },
     "output_type": "display_data"
    }
   ],
   "source": [
    "scores_man = data_sch_147[:,9][data_sch_147[:,3]=='М'].astype(int)\n",
    "sns.kdeplot(scores_man.astype(int))"
   ]
  },
  {
   "cell_type": "code",
   "execution_count": 170,
   "id": "27165111",
   "metadata": {},
   "outputs": [
    {
     "data": {
      "text/plain": [
       "<AxesSubplot:ylabel='Density'>"
      ]
     },
     "execution_count": 170,
     "metadata": {},
     "output_type": "execute_result"
    },
    {
     "data": {
      "image/png": "[encoded data removed]",
      "text/plain": [
       "<Figure size 432x288 with 1 Axes>"
      ]
     },
     "metadata": {
      "needs_background": "light"
     },
     "output_type": "display_data"
    }
   ],
   "source": [
    "scores_woman = data_sch_147[:,9][data_sch_147[:,3]=='Ж'].astype(int)\n",
    "sns.kdeplot(scores_woman.astype(int))"
   ]
  },
  {
   "cell_type": "code",
   "execution_count": 171,
   "id": "bfdad7ce",
   "metadata": {},
   "outputs": [],
   "source": [
    "file = 'data/Вариант 2.csv'"
   ]
  },
  {
   "cell_type": "code",
   "execution_count": 172,
   "id": "9c1a71bb",
   "metadata": {},
   "outputs": [
    {
     "data": {
      "text/plain": [
       "array([['1', '124', '11', 'Ж', '341', '------+-----',\n",
       "        '0(2)0(2)0(2)0(3)0(3)0(4)0(4)', '', '1', '5', '27'],\n",
       "       ['2', '128', '11', 'Ж', '345', '-+----------',\n",
       "        '0(2)0(2)0(2)0(3)0(3)0(4)0(4)', '', '1', '5', '27'],\n",
       "       ['3', '132', '11', 'Ж', '340', '-+----------',\n",
       "        '0(2)0(2)0(2)0(3)0(3)0(4)0(4)', '', '1', '5', '27'],\n",
       "       ['4', '134', '11', 'Ж', '339', '-+----------',\n",
       "        '0(2)0(2)0(2)0(3)0(3)0(4)0(4)', '', '1', '5', '27'],\n",
       "       ['5', '136', '11', 'Ж', '348', '--------+---',\n",
       "        '0(2)0(2)0(2)0(3)0(3)0(4)0(4)', '', '1', '5', '27']], dtype='<U28')"
      ]
     },
     "execution_count": 172,
     "metadata": {},
     "output_type": "execute_result"
    }
   ],
   "source": [
    "import numpy as np\n",
    "data = np.loadtxt(open(file,'rt').readlines()[:-1],skiprows = 3,delimiter = ',',dtype=(str))\n",
    "data[:5]"
   ]
  },
  {
   "cell_type": "code",
   "execution_count": 173,
   "id": "1e4a515e",
   "metadata": {},
   "outputs": [
    {
     "data": {
      "text/plain": [
       "array([['02-Математика профильная', '', '', '', '', '', '', '', '', '',\n",
       "        ''],\n",
       "       ['', '', '', '', '', '', '', '', '', '', ''],\n",
       "       ['№', '№ школы', 'Класс', 'Пол', 'Номер варианта',\n",
       "        'Задания с кратким ответом', 'Задания с развёрнутым ответом',\n",
       "        'Устная часть', 'Первичный балл', 'Балл', 'Минимальный балл']],\n",
       "      dtype='<U29')"
      ]
     },
     "execution_count": 173,
     "metadata": {},
     "output_type": "execute_result"
    }
   ],
   "source": [
    "header = np.loadtxt(open(file,'rt').readlines()[:3],delimiter = ',',dtype=(str),skiprows = 0)\n",
    "if 'Русский язык' in header[0][0]:\n",
    "    grades = [23,56,71]\n",
    "if 'Математика' in header[0][0]:\n",
    "    grades = [24,46,64]\n",
    "header"
   ]
  },
  {
   "cell_type": "markdown",
   "id": "0da9718e",
   "metadata": {},
   "source": [
    "2.\tСделайте описательную статистику по набранному баллу"
   ]
  },
  {
   "cell_type": "code",
   "execution_count": 174,
   "id": "a7d335b6",
   "metadata": {},
   "outputs": [],
   "source": [
    "from scipy import stats"
   ]
  },
  {
   "cell_type": "code",
   "execution_count": 175,
   "id": "0c0029f6",
   "metadata": {},
   "outputs": [
    {
     "data": {
      "text/plain": [
       "DescribeResult(nobs=2356, minmax=(5, 96), mean=49.25509337860781, variance=319.7094220294933, skewness=-0.055508484988738366, kurtosis=-0.857418877792655)"
      ]
     },
     "execution_count": 175,
     "metadata": {},
     "output_type": "execute_result"
    }
   ],
   "source": [
    "descriptive_stats = stats.describe(data[:,9].astype(int))\n",
    "descriptive_stats"
   ]
  },
  {
   "cell_type": "markdown",
   "id": "2a483341",
   "metadata": {},
   "source": [
    "3.\tНайдите процент учащихся, выполнивших работу ниже среднего"
   ]
  },
  {
   "cell_type": "code",
   "execution_count": 176,
   "id": "9e95f06b",
   "metadata": {},
   "outputs": [
    {
     "data": {
      "text/plain": [
       "0.4800509337860781"
      ]
     },
     "execution_count": 176,
     "metadata": {},
     "output_type": "execute_result"
    }
   ],
   "source": [
    "data[data[:,9].astype(int)<descriptive_stats.mean].shape[0]/data.shape[0]"
   ]
  },
  {
   "cell_type": "markdown",
   "id": "16c8b6c0",
   "metadata": {},
   "source": [
    "4.\tНайти процент учащихся не сдавших экзамен"
   ]
  },
  {
   "cell_type": "code",
   "execution_count": 177,
   "id": "d525ec0d",
   "metadata": {},
   "outputs": [
    {
     "data": {
      "text/plain": [
       "0.09210526315789473"
      ]
     },
     "execution_count": 177,
     "metadata": {},
     "output_type": "execute_result"
    }
   ],
   "source": [
    "bad_mark = data[data[:,9].astype(int)<data[:,10].astype(int)].shape[0]/data.shape[0]\n",
    "bad_mark"
   ]
  },
  {
   "cell_type": "markdown",
   "id": "cb30f325",
   "metadata": {},
   "source": [
    "5.\tПостройте круговую диаграмму, показывающую распределение сдавших и не сдавших экзамен"
   ]
  },
  {
   "cell_type": "code",
   "execution_count": 178,
   "id": "007a7bc2",
   "metadata": {},
   "outputs": [
    {
     "data": {
      "image/png": "[encoded data removed]",
      "text/plain": [
       "<Figure size 432x288 with 1 Axes>"
      ]
     },
     "metadata": {},
     "output_type": "display_data"
    }
   ],
   "source": [
    "import matplotlib.pyplot as plt\n",
    "import seaborn as sns\n",
    "\n",
    "plt.pie([bad_mark,1-bad_mark],labels = ['Не сдали','Сдали'])\n",
    "plt.show()"
   ]
  },
  {
   "cell_type": "markdown",
   "id": "3685d647",
   "metadata": {},
   "source": [
    "6.\tПостройте ядерную оценку плотности распределению баллов за экзамен"
   ]
  },
  {
   "cell_type": "code",
   "execution_count": 179,
   "id": "12d71eab",
   "metadata": {},
   "outputs": [
    {
     "data": {
      "text/plain": [
       "<AxesSubplot:ylabel='Density'>"
      ]
     },
     "execution_count": 179,
     "metadata": {},
     "output_type": "execute_result"
    },
    {
     "data": {
      "image/png": "[encoded data removed]",
      "text/plain": [
       "<Figure size 432x288 with 1 Axes>"
      ]
     },
     "metadata": {
      "needs_background": "light"
     },
     "output_type": "display_data"
    }
   ],
   "source": [
    "sns.kdeplot(data[:,9].astype(int))"
   ]
  },
  {
   "cell_type": "markdown",
   "id": "0fffc45a",
   "metadata": {},
   "source": [
    "7.\tНайдите процентное соотношение учащихся, сдавших экзамен на «отлично», «хорошо», «удовлетворительно», «неудовлетворительно»."
   ]
  },
  {
   "cell_type": "code",
   "execution_count": 180,
   "id": "bafe09b8",
   "metadata": {},
   "outputs": [],
   "source": [
    "scores = data[:,9].astype(int)\n",
    "neud = (scores < grades[0]).sum()/scores.shape[0]\n",
    "ud = ((scores > grades[0]) & (scores <= grades[1])).sum()/scores.shape[0]\n",
    "hor = ((scores > grades[1]) & (scores <= grades[2])).sum()/scores.shape[0]\n",
    "otl = (scores > grades[2]).sum()/scores.shape[0]"
   ]
  },
  {
   "cell_type": "code",
   "execution_count": 181,
   "id": "9fa72d7c",
   "metadata": {},
   "outputs": [
    {
     "data": {
      "image/png": "[encoded data removed]",
      "text/plain": [
       "<Figure size 432x288 with 1 Axes>"
      ]
     },
     "metadata": {},
     "output_type": "display_data"
    }
   ],
   "source": [
    "plt.pie([neud,ud,hor,otl],labels = ['Неуд','Уд','Хор','Отл'])\n",
    "plt.show()"
   ]
  },
  {
   "cell_type": "markdown",
   "id": "6e7b2d93",
   "metadata": {},
   "source": [
    "8.\tКакое процентное соотношение юношей и девушек писало данный экзамен? "
   ]
  },
  {
   "cell_type": "code",
   "execution_count": 182,
   "id": "21b809fb",
   "metadata": {},
   "outputs": [
    {
     "data": {
      "text/plain": [
       "(0.47156196943972833, 0.5284380305602716)"
      ]
     },
     "execution_count": 182,
     "metadata": {},
     "output_type": "execute_result"
    }
   ],
   "source": [
    "man = (data[:,3] =='М').sum()/data[:,3].shape[0]\n",
    "woman = 1-man\n",
    "man,woman"
   ]
  },
  {
   "cell_type": "markdown",
   "id": "aadb2281",
   "metadata": {},
   "source": [
    "9.\tСколько школ принимало участие в экзамене?"
   ]
  },
  {
   "cell_type": "code",
   "execution_count": 183,
   "id": "b5ecc056",
   "metadata": {},
   "outputs": [
    {
     "data": {
      "text/plain": [
       "17"
      ]
     },
     "execution_count": 183,
     "metadata": {},
     "output_type": "execute_result"
    }
   ],
   "source": [
    "len(list(set(data[:,1].tolist())))"
   ]
  },
  {
   "cell_type": "markdown",
   "id": "8db65761",
   "metadata": {},
   "source": [
    "1.\tСколько всего заданий с кратким ответом? С развернутым ответом?"
   ]
  },
  {
   "cell_type": "code",
   "execution_count": 184,
   "id": "a131b50a",
   "metadata": {},
   "outputs": [
    {
     "data": {
      "text/plain": [
       "12"
      ]
     },
     "execution_count": 184,
     "metadata": {},
     "output_type": "execute_result"
    }
   ],
   "source": [
    "mylen = np.vectorize(len)\n",
    "short = mylen(data[:,5])[0]\n",
    "short"
   ]
  },
  {
   "cell_type": "code",
   "execution_count": 185,
   "id": "f773b1e5",
   "metadata": {},
   "outputs": [
    {
     "data": {
      "text/plain": [
       "7"
      ]
     },
     "execution_count": 185,
     "metadata": {},
     "output_type": "execute_result"
    }
   ],
   "source": [
    "long = int(mylen(data[:,6])[0]/4)\n",
    "long"
   ]
  },
  {
   "cell_type": "code",
   "execution_count": 186,
   "id": "fc31f71c",
   "metadata": {},
   "outputs": [
    {
     "data": {
      "text/plain": [
       "array(['0(2)0(2)0(2)0(3)0(3)0(4)0(4)', '0(2)0(2)0(2)0(3)0(3)0(4)0(4)',\n",
       "       '0(2)0(2)0(2)0(3)0(3)0(4)0(4)', ...,\n",
       "       '2(2)1(2)2(2)1(3)3(3)4(4)2(4)', '2(2)2(2)2(2)0(3)3(3)4(4)2(4)',\n",
       "       '2(2)2(2)2(2)0(3)3(3)4(4)2(4)'], dtype='<U28')"
      ]
     },
     "execution_count": 186,
     "metadata": {},
     "output_type": "execute_result"
    }
   ],
   "source": [
    "data[:,6]"
   ]
  },
  {
   "cell_type": "markdown",
   "id": "5dfd88b1",
   "metadata": {},
   "source": [
    "2.\tПусть задания с кратким ответом будут задания типа В. Соответственно всего по экзамену вопросов класса В: В 1 … В к Посчитайте процент выполненных и невыполненных заданий по каждому вопросу класса В. "
   ]
  },
  {
   "cell_type": "code",
   "execution_count": 187,
   "id": "330fb7ae",
   "metadata": {},
   "outputs": [],
   "source": [
    "def b_score(data,number):\n",
    "    scores = np.array([x[number-1] for x in data])\n",
    "    percent_bad = ((scores =='-')|(scores =='0')).sum()/scores.shape[0]\n",
    "    print(f'Номер задания {number}')\n",
    "    plt.pie([percent_bad,1-percent_bad],labels = ['Невыполнено','Выполнено'])\n",
    "    plt.show()\n",
    "    return 1-percent_bad,percent_bad"
   ]
  },
  {
   "cell_type": "code",
   "execution_count": 188,
   "id": "d6c8dd58",
   "metadata": {},
   "outputs": [
    {
     "name": "stdout",
     "output_type": "stream",
     "text": [
      "Номер задания 2\n"
     ]
    },
    {
     "data": {
      "image/png": "[encoded data removed]",
      "text/plain": [
       "<Figure size 432x288 with 1 Axes>"
      ]
     },
     "metadata": {},
     "output_type": "display_data"
    },
    {
     "data": {
      "text/plain": [
       "(0.9533106960950763, 0.0466893039049236)"
      ]
     },
     "execution_count": 188,
     "metadata": {},
     "output_type": "execute_result"
    }
   ],
   "source": [
    "b_score(data[:,5],2)"
   ]
  },
  {
   "cell_type": "code",
   "execution_count": 189,
   "id": "42cc0183",
   "metadata": {},
   "outputs": [],
   "source": [
    "def b_all_scores(data):\n",
    "    res_arr = []\n",
    "    for i in range(short):\n",
    "        scores = np.array([x[i] for x in data])\n",
    "        percent_bad = ((scores =='-')|(scores =='0')).sum()/scores.shape[0]\n",
    "        res_arr.append((1-percent_bad,percent_bad))\n",
    "    return res_arr"
   ]
  },
  {
   "cell_type": "code",
   "execution_count": 190,
   "id": "0d01decf",
   "metadata": {},
   "outputs": [
    {
     "data": {
      "text/plain": [
       "[(0.8926146010186757, 0.10738539898132428),\n",
       " (0.9533106960950763, 0.0466893039049236),\n",
       " (0.9278438030560272, 0.07215619694397284),\n",
       " (0.9100169779286927, 0.0899830220713073),\n",
       " (0.884974533106961, 0.11502546689303905),\n",
       " (0.7317487266553481, 0.26825127334465193),\n",
       " (0.37478777589134127, 0.6252122241086587),\n",
       " (0.47835314091680814, 0.5216468590831919),\n",
       " (0.9185059422750425, 0.08149405772495756),\n",
       " (0.7147707979626485, 0.28522920203735147),\n",
       " (0.5925297113752122, 0.4074702886247878),\n",
       " (0.46222410865874364, 0.5377758913412564)]"
      ]
     },
     "execution_count": 190,
     "metadata": {},
     "output_type": "execute_result"
    }
   ],
   "source": [
    "b_all_scores(data[:,5])"
   ]
  },
  {
   "cell_type": "markdown",
   "id": "b5c12f5b",
   "metadata": {},
   "source": [
    "3.\tАналогично и с типом С (ответы с развернутым ответом)"
   ]
  },
  {
   "cell_type": "code",
   "execution_count": 191,
   "id": "ad0213f0",
   "metadata": {},
   "outputs": [],
   "source": [
    "def c_score(data,number):\n",
    "    scores = np.array([x.split(')')[number-1][0] for x in data])\n",
    "    percent_bad = ((scores =='-')|(scores =='0')).sum()/scores.shape[0]\n",
    "    print(f'Номер задания {25 + number}')\n",
    "    plt.pie([percent_bad,1-percent_bad],labels = ['Невыполнено','Выполнено'])\n",
    "    plt.show()\n",
    "    return 1-percent_bad,percent_bad"
   ]
  },
  {
   "cell_type": "code",
   "execution_count": 192,
   "id": "01384090",
   "metadata": {},
   "outputs": [
    {
     "name": "stdout",
     "output_type": "stream",
     "text": [
      "Номер задания 32\n"
     ]
    },
    {
     "data": {
      "image/png": "[encoded data removed]",
      "text/plain": [
       "<Figure size 432x288 with 1 Axes>"
      ]
     },
     "metadata": {},
     "output_type": "display_data"
    },
    {
     "data": {
      "text/plain": [
       "(0.03395585738539897, 0.966044142614601)"
      ]
     },
     "execution_count": 192,
     "metadata": {},
     "output_type": "execute_result"
    }
   ],
   "source": [
    "c_score(data[:,6],7)"
   ]
  },
  {
   "cell_type": "code",
   "execution_count": 193,
   "id": "a8bb71e8",
   "metadata": {},
   "outputs": [],
   "source": [
    "def c_all_scores(data):\n",
    "    res_arr = []\n",
    "    for i in range(long):\n",
    "        scores = np.array([x.split(')')[i][0] for x in data])\n",
    "        percent_bad = ((scores =='-')|(scores =='0')).sum()/scores.shape[0]\n",
    "        res_arr.append((1-percent_bad,percent_bad))\n",
    "    return res_arr"
   ]
  },
  {
   "cell_type": "code",
   "execution_count": 194,
   "id": "bdecc229",
   "metadata": {},
   "outputs": [
    {
     "data": {
      "text/plain": [
       "[(0.33913412563667233, 0.6608658743633277),\n",
       " (0.15874363327674024, 0.8412563667232598),\n",
       " (0.15577249575551788, 0.8442275042444821),\n",
       " (0.02716468590831922, 0.9728353140916808),\n",
       " (0.03395585738539897, 0.966044142614601),\n",
       " (0.011035653650254718, 0.9889643463497453),\n",
       " (0.03395585738539897, 0.966044142614601)]"
      ]
     },
     "execution_count": 194,
     "metadata": {},
     "output_type": "execute_result"
    }
   ],
   "source": [
    "c_all_scores(data[:,6])"
   ]
  },
  {
   "cell_type": "markdown",
   "id": "ba38885b",
   "metadata": {},
   "source": [
    "4.\tСделайте анализ по двум школам:\n",
    "a.\tпо всем выполненным заданиям типа В\n",
    "b.\tпо заданиям типа С больше 50%\n",
    "c.\tпо среднему балу юношей и девушек\n"
   ]
  },
  {
   "cell_type": "code",
   "execution_count": 198,
   "id": "b2ddfb60",
   "metadata": {},
   "outputs": [
    {
     "data": {
      "text/plain": [
       "[(0.8, 0.2),\n",
       " (0.8, 0.2),\n",
       " (0.7714285714285715, 0.22857142857142856),\n",
       " (0.8, 0.2),\n",
       " (0.7714285714285715, 0.22857142857142856),\n",
       " (0.6571428571428571, 0.34285714285714286),\n",
       " (0.22857142857142854, 0.7714285714285715),\n",
       " (0.4, 0.6),\n",
       " (0.9142857142857143, 0.08571428571428572),\n",
       " (0.4, 0.6),\n",
       " (0.4285714285714286, 0.5714285714285714),\n",
       " (0.22857142857142854, 0.7714285714285715)]"
      ]
     },
     "execution_count": 198,
     "metadata": {},
     "output_type": "execute_result"
    }
   ],
   "source": [
    "data_sch_124 = data[data[:,1] == '124']\n",
    "b_all_scores(data_sch_124[:,5])"
   ]
  },
  {
   "cell_type": "code",
   "execution_count": 204,
   "id": "41087b23",
   "metadata": {},
   "outputs": [],
   "source": [
    "def c_more_than50(data):\n",
    "    res_arr = []\n",
    "    for i in range(long):\n",
    "        maximum = int(int(data[0].split(')')[i][-1])/2)\n",
    "        scores = np.array([int(x.split(')')[i][0]) for x in data])\n",
    "        percent_good = (scores > maximum).sum()/scores.shape[0]\n",
    "        res_arr.append((percent_good,1-percent_good))\n",
    "    return res_arr"
   ]
  },
  {
   "cell_type": "code",
   "execution_count": 205,
   "id": "eef01962",
   "metadata": {},
   "outputs": [
    {
     "data": {
      "text/plain": [
       "array(['0(2)0(2)0(2)0(3)0(3)0(4)0(4)', '0(2)0(2)0(2)0(3)0(3)0(4)0(4)',\n",
       "       '0(2)0(2)0(2)0(3)0(3)0(4)0(4)', '0(2)0(2)0(2)0(3)0(3)0(4)0(4)',\n",
       "       '0(2)0(2)0(2)0(3)0(3)0(4)0(4)', '0(2)0(2)0(2)0(3)0(3)0(4)0(4)',\n",
       "       '0(2)0(2)0(2)0(3)0(3)0(4)0(4)', '0(2)0(2)0(2)0(3)0(3)0(4)0(4)',\n",
       "       '0(2)0(2)0(2)0(3)0(3)0(4)0(4)', '0(2)0(2)0(2)0(3)0(3)0(4)0(4)',\n",
       "       '0(2)0(2)0(2)0(3)0(3)0(4)0(4)', '0(2)0(2)0(2)0(3)0(3)0(4)0(4)',\n",
       "       '0(2)0(2)0(2)0(3)0(3)0(4)0(4)', '0(2)0(2)0(2)0(3)0(3)0(4)0(4)',\n",
       "       '0(2)0(2)0(2)0(3)0(3)0(4)0(4)', '0(2)0(2)0(2)0(3)0(3)0(4)0(4)',\n",
       "       '0(2)0(2)0(2)0(3)0(3)0(4)0(4)', '0(2)0(2)0(2)0(3)0(3)0(4)0(4)',\n",
       "       '0(2)0(2)0(2)0(3)0(3)0(4)0(4)', '0(2)0(2)0(2)0(3)0(3)0(4)0(4)',\n",
       "       '0(2)0(2)0(2)0(3)0(3)0(4)0(4)', '0(2)0(2)0(2)0(3)0(3)0(4)0(4)',\n",
       "       '0(2)0(2)0(2)0(3)0(3)0(4)0(4)', '0(2)0(2)0(2)0(3)0(3)0(4)0(4)',\n",
       "       '0(2)0(2)0(2)0(3)0(3)0(4)0(4)', '0(2)0(2)0(2)0(3)0(3)0(4)0(4)',\n",
       "       '0(2)0(2)0(2)0(3)0(3)0(4)0(4)', '0(2)0(2)0(2)0(3)0(3)0(4)0(4)',\n",
       "       '0(2)0(2)0(2)0(3)0(3)0(4)0(4)', '2(2)0(2)0(2)0(3)0(3)0(4)0(4)',\n",
       "       '0(2)0(2)0(2)0(3)0(3)0(4)0(4)', '1(2)0(2)0(2)0(3)0(3)0(4)0(4)',\n",
       "       '1(2)0(2)0(2)0(3)0(3)0(4)0(4)', '2(2)1(2)0(2)0(3)0(3)0(4)0(4)',\n",
       "       '2(2)0(2)2(2)1(3)0(3)0(4)0(4)'], dtype='<U28')"
      ]
     },
     "execution_count": 205,
     "metadata": {},
     "output_type": "execute_result"
    }
   ],
   "source": [
    "data_sch_124[:,6]"
   ]
  },
  {
   "cell_type": "code",
   "execution_count": 206,
   "id": "9b8d9854",
   "metadata": {},
   "outputs": [
    {
     "data": {
      "text/plain": [
       "[(0.08571428571428572, 0.9142857142857143),\n",
       " (0.0, 1.0),\n",
       " (0.02857142857142857, 0.9714285714285714),\n",
       " (0.0, 1.0),\n",
       " (0.0, 1.0),\n",
       " (0.0, 1.0),\n",
       " (0.0, 1.0)]"
      ]
     },
     "execution_count": 206,
     "metadata": {},
     "output_type": "execute_result"
    }
   ],
   "source": [
    "c_more_than50(data_sch_124[:,6])"
   ]
  },
  {
   "cell_type": "code",
   "execution_count": 210,
   "id": "30fb0a64",
   "metadata": {},
   "outputs": [
    {
     "data": {
      "text/plain": [
       "<AxesSubplot:ylabel='Density'>"
      ]
     },
     "execution_count": 210,
     "metadata": {},
     "output_type": "execute_result"
    },
    {
     "data": {
      "image/png": "[encoded data removed]",
      "text/plain": [
       "<Figure size 432x288 with 1 Axes>"
      ]
     },
     "metadata": {
      "needs_background": "light"
     },
     "output_type": "display_data"
    }
   ],
   "source": [
    "scores_man = data_sch_124[:,9][data_sch_124[:,3]=='М'].astype(int)\n",
    "sns.kdeplot(scores_man.astype(int))"
   ]
  },
  {
   "cell_type": "code",
   "execution_count": 211,
   "id": "1eb69a7e",
   "metadata": {},
   "outputs": [
    {
     "data": {
      "text/plain": [
       "<AxesSubplot:ylabel='Density'>"
      ]
     },
     "execution_count": 211,
     "metadata": {},
     "output_type": "execute_result"
    },
    {
     "data": {
      "image/png": "[encoded data removed]",
      "text/plain": [
       "<Figure size 432x288 with 1 Axes>"
      ]
     },
     "metadata": {
      "needs_background": "light"
     },
     "output_type": "display_data"
    }
   ],
   "source": [
    "scores_woman = data_sch_124[:,9][data_sch_124[:,3]=='Ж'].astype(int)\n",
    "sns.kdeplot(scores_woman.astype(int))"
   ]
  },
  {
   "cell_type": "code",
   "execution_count": 213,
   "id": "88299025",
   "metadata": {},
   "outputs": [
    {
     "data": {
      "text/plain": [
       "[(0.9029411764705882, 0.09705882352941177),\n",
       " (0.9647058823529412, 0.03529411764705882),\n",
       " (0.9470588235294117, 0.052941176470588235),\n",
       " (0.9107843137254902, 0.0892156862745098),\n",
       " (0.9049019607843137, 0.09509803921568627),\n",
       " (0.746078431372549, 0.25392156862745097),\n",
       " (0.42156862745098034, 0.5784313725490197),\n",
       " (0.4794117647058823, 0.5205882352941177),\n",
       " (0.9107843137254902, 0.0892156862745098),\n",
       " (0.7303921568627452, 0.2696078431372549),\n",
       " (0.611764705882353, 0.38823529411764707),\n",
       " (0.4852941176470589, 0.5147058823529411)]"
      ]
     },
     "execution_count": 213,
     "metadata": {},
     "output_type": "execute_result"
    }
   ],
   "source": [
    "data_sch_136 = data[data[:,1] == '136']\n",
    "b_all_scores(data_sch_136[:,5])"
   ]
  },
  {
   "cell_type": "code",
   "execution_count": 214,
   "id": "6d89d6d0",
   "metadata": {},
   "outputs": [
    {
     "data": {
      "text/plain": [
       "[(0.31862745098039214, 0.6813725490196079),\n",
       " (0.10392156862745099, 0.8960784313725491),\n",
       " (0.1696078431372549, 0.830392156862745),\n",
       " (0.00980392156862745, 0.9901960784313726),\n",
       " (0.028431372549019607, 0.9715686274509804),\n",
       " (0.00980392156862745, 0.9901960784313726),\n",
       " (0.000980392156862745, 0.9990196078431373)]"
      ]
     },
     "execution_count": 214,
     "metadata": {},
     "output_type": "execute_result"
    }
   ],
   "source": [
    "c_more_than50(data_sch_136[:,6])"
   ]
  },
  {
   "cell_type": "code",
   "execution_count": 215,
   "id": "21b50f34",
   "metadata": {},
   "outputs": [
    {
     "data": {
      "text/plain": [
       "<AxesSubplot:ylabel='Density'>"
      ]
     },
     "execution_count": 215,
     "metadata": {},
     "output_type": "execute_result"
    },
    {
     "data": {
      "image/png": "[encoded data removed]",
      "text/plain": [
       "<Figure size 432x288 with 1 Axes>"
      ]
     },
     "metadata": {
      "needs_background": "light"
     },
     "output_type": "display_data"
    }
   ],
   "source": [
    "scores_man = data_sch_136[:,9][data_sch_136[:,3]=='М'].astype(int)\n",
    "sns.kdeplot(scores_man.astype(int))"
   ]
  },
  {
   "cell_type": "code",
   "execution_count": 216,
   "id": "32382240",
   "metadata": {},
   "outputs": [
    {
     "data": {
      "text/plain": [
       "<AxesSubplot:ylabel='Density'>"
      ]
     },
     "execution_count": 216,
     "metadata": {},
     "output_type": "execute_result"
    },
    {
     "data": {
      "image/png": "[encoded data removed]",
      "text/plain": [
       "<Figure size 432x288 with 1 Axes>"
      ]
     },
     "metadata": {
      "needs_background": "light"
     },
     "output_type": "display_data"
    }
   ],
   "source": [
    "scores_woman = data_sch_136[:,9][data_sch_136[:,3]=='Ж'].astype(int)\n",
    "sns.kdeplot(scores_woman.astype(int))"
   ]
  },
  {
   "cell_type": "code",
   "execution_count": 3,
   "id": "8461f525",
   "metadata": {},
   "outputs": [],
   "source": [
    "file = 'data/Вариант 3.csv'"
   ]
  },
  {
   "cell_type": "code",
   "execution_count": 4,
   "id": "b702005a",
   "metadata": {},
   "outputs": [
    {
     "data": {
      "text/plain": [
       "array([['1', '152', '11', 'М', '333', '----001---00---000--1-+0---',\n",
       "        '0(3)0(3)0(3)0(3)0(3)', '', '3', '10', '36'],\n",
       "       ['2', '140', '12', 'Ж', '332', '----100---01-+-000--0--1---',\n",
       "        '0(3)0(3)0(3)0(3)0(3)', '', '4', '14', '36'],\n",
       "       ['3', '137', '11', 'М', '328', '--+-010---00---101--0--1---',\n",
       "        '0(3)0(3)0(3)0(3)0(3)', '', '5', '17', '36'],\n",
       "       ['4', '148', '11', 'М', '333', '-+--000--+01---100--0--1---',\n",
       "        '0(3)0(3)0(3)0(3)0(3)', '', '5', '17', '36'],\n",
       "       ['5', '153', '11', 'Ж', '333', '-+--100---00---100-+0--1---',\n",
       "        '0(3)0(3)0(3)0(3)0(3)', '', '5', '17', '36']], dtype='<U27')"
      ]
     },
     "execution_count": 4,
     "metadata": {},
     "output_type": "execute_result"
    }
   ],
   "source": [
    "import numpy as np\n",
    "data = np.loadtxt(open(file,'rt').readlines()[:-1],skiprows = 3,delimiter = ',',dtype=(str))\n",
    "data[:5]"
   ]
  },
  {
   "cell_type": "code",
   "execution_count": 6,
   "id": "2ab66c72",
   "metadata": {},
   "outputs": [
    {
     "data": {
      "text/plain": [
       "array([['03-Физика', '', '', '', '', '', '', '', '', '', ''],\n",
       "       ['', '', '', '', '', '', '', '', '', '', ''],\n",
       "       ['№', '№ школы', 'Класс', 'Пол', 'Номер варианта',\n",
       "        'Задания с кратким ответом', 'Задания с развёрнутым ответом',\n",
       "        'Устная часть', 'Первичный балл', 'Балл', 'Минимальный балл']],\n",
       "      dtype='<U29')"
      ]
     },
     "execution_count": 6,
     "metadata": {},
     "output_type": "execute_result"
    }
   ],
   "source": [
    "header = np.loadtxt(open(file,'rt').readlines()[:3],delimiter = ',',dtype=(str),skiprows = 0)\n",
    "if 'Русский язык' in header[0][0]:\n",
    "    grades = [23,56,71]\n",
    "if 'Математика' in header[0][0]:\n",
    "    grades = [24,46,64]    \n",
    "if 'Физика' in header[0][0]:\n",
    "    grades = [35,52,67]\n",
    "if 'Информатика' in header[0][0]:\n",
    "    grades = [23,56,71]\n",
    "header"
   ]
  },
  {
   "cell_type": "markdown",
   "id": "b3131c1f",
   "metadata": {},
   "source": [
    "2.\tСделайте описательную статистику по набранному баллу"
   ]
  },
  {
   "cell_type": "code",
   "execution_count": 7,
   "id": "7b61b4c1",
   "metadata": {},
   "outputs": [],
   "source": [
    "from scipy import stats"
   ]
  },
  {
   "cell_type": "code",
   "execution_count": 8,
   "id": "6af52fde",
   "metadata": {},
   "outputs": [
    {
     "data": {
      "text/plain": [
       "DescribeResult(nobs=1180, minmax=(10, 100), mean=52.047457627118646, variance=223.96551515935656, skewness=0.5915053703516346, kurtosis=0.20711676474614205)"
      ]
     },
     "execution_count": 8,
     "metadata": {},
     "output_type": "execute_result"
    }
   ],
   "source": [
    "descriptive_stats = stats.describe(data[:,9].astype(int))\n",
    "descriptive_stats"
   ]
  },
  {
   "cell_type": "markdown",
   "id": "d6cf0e82",
   "metadata": {},
   "source": [
    "3.\tНайдите процент учащихся, выполнивших работу ниже среднего"
   ]
  },
  {
   "cell_type": "code",
   "execution_count": 9,
   "id": "941decf0",
   "metadata": {},
   "outputs": [
    {
     "data": {
      "text/plain": [
       "0.5627118644067797"
      ]
     },
     "execution_count": 9,
     "metadata": {},
     "output_type": "execute_result"
    }
   ],
   "source": [
    "data[data[:,9].astype(int)<descriptive_stats.mean].shape[0]/data.shape[0]"
   ]
  },
  {
   "cell_type": "markdown",
   "id": "16c8b6c0",
   "metadata": {},
   "source": [
    "4.\tНайти процент учащихся не сдавших экзамен"
   ]
  },
  {
   "cell_type": "code",
   "execution_count": 10,
   "id": "d525ec0d",
   "metadata": {},
   "outputs": [
    {
     "data": {
      "text/plain": [
       "0.07711864406779662"
      ]
     },
     "execution_count": 10,
     "metadata": {},
     "output_type": "execute_result"
    }
   ],
   "source": [
    "bad_mark = data[data[:,9].astype(int)<data[:,10].astype(int)].shape[0]/data.shape[0]\n",
    "bad_mark"
   ]
  },
  {
   "cell_type": "markdown",
   "id": "cb30f325",
   "metadata": {},
   "source": [
    "5.\tПостройте круговую диаграмму, показывающую распределение сдавших и не сдавших экзамен"
   ]
  },
  {
   "cell_type": "code",
   "execution_count": 11,
   "id": "007a7bc2",
   "metadata": {},
   "outputs": [
    {
     "data": {
      "image/png": "[encoded data removed]",
      "text/plain": [
       "<Figure size 432x288 with 1 Axes>"
      ]
     },
     "metadata": {},
     "output_type": "display_data"
    }
   ],
   "source": [
    "import matplotlib.pyplot as plt\n",
    "import seaborn as sns\n",
    "\n",
    "plt.pie([bad_mark,1-bad_mark],labels = ['Не сдали','Сдали'])\n",
    "plt.show()"
   ]
  },
  {
   "cell_type": "markdown",
   "id": "3685d647",
   "metadata": {},
   "source": [
    "6.\tПостройте ядерную оценку плотности распределению баллов за экзамен"
   ]
  },
  {
   "cell_type": "code",
   "execution_count": 12,
   "id": "12d71eab",
   "metadata": {},
   "outputs": [
    {
     "data": {
      "text/plain": [
       "<AxesSubplot:ylabel='Density'>"
      ]
     },
     "execution_count": 12,
     "metadata": {},
     "output_type": "execute_result"
    },
    {
     "data": {
      "image/png": "[encoded data removed]",
      "text/plain": [
       "<Figure size 432x288 with 1 Axes>"
      ]
     },
     "metadata": {
      "needs_background": "light"
     },
     "output_type": "display_data"
    }
   ],
   "source": [
    "sns.kdeplot(data[:,9].astype(int))"
   ]
  },
  {
   "cell_type": "markdown",
   "id": "0fffc45a",
   "metadata": {},
   "source": [
    "7.\tНайдите процентное соотношение учащихся, сдавших экзамен на «отлично», «хорошо», «удовлетворительно», «неудовлетворительно»."
   ]
  },
  {
   "cell_type": "code",
   "execution_count": 13,
   "id": "bafe09b8",
   "metadata": {},
   "outputs": [],
   "source": [
    "scores = data[:,9].astype(int)\n",
    "neud = (scores < grades[0]).sum()/scores.shape[0]\n",
    "ud = ((scores > grades[0]) & (scores <= grades[1])).sum()/scores.shape[0]\n",
    "hor = ((scores > grades[1]) & (scores <= grades[2])).sum()/scores.shape[0]\n",
    "otl = (scores > grades[2]).sum()/scores.shape[0]"
   ]
  },
  {
   "cell_type": "code",
   "execution_count": 14,
   "id": "9fa72d7c",
   "metadata": {},
   "outputs": [
    {
     "data": {
      "image/png": "[encoded data removed]",
      "text/plain": [
       "<Figure size 432x288 with 1 Axes>"
      ]
     },
     "metadata": {},
     "output_type": "display_data"
    }
   ],
   "source": [
    "plt.pie([neud,ud,hor,otl],labels = ['Неуд','Уд','Хор','Отл'])\n",
    "plt.show()"
   ]
  },
  {
   "cell_type": "markdown",
   "id": "6e7b2d93",
   "metadata": {},
   "source": [
    "8.\tКакое процентное соотношение юношей и девушек писало данный экзамен? "
   ]
  },
  {
   "cell_type": "code",
   "execution_count": 15,
   "id": "21b809fb",
   "metadata": {},
   "outputs": [
    {
     "data": {
      "text/plain": [
       "(0.6864406779661016, 0.31355932203389836)"
      ]
     },
     "execution_count": 15,
     "metadata": {},
     "output_type": "execute_result"
    }
   ],
   "source": [
    "man = (data[:,3] =='М').sum()/data[:,3].shape[0]\n",
    "woman = 1-man\n",
    "man,woman"
   ]
  },
  {
   "cell_type": "markdown",
   "id": "aadb2281",
   "metadata": {},
   "source": [
    "9.\tСколько школ принимало участие в экзамене?"
   ]
  },
  {
   "cell_type": "code",
   "execution_count": 16,
   "id": "b5ecc056",
   "metadata": {},
   "outputs": [
    {
     "data": {
      "text/plain": [
       "19"
      ]
     },
     "execution_count": 16,
     "metadata": {},
     "output_type": "execute_result"
    }
   ],
   "source": [
    "len(list(set(data[:,1].tolist())))"
   ]
  },
  {
   "cell_type": "markdown",
   "id": "8db65761",
   "metadata": {},
   "source": [
    "1.\tСколько всего заданий с кратким ответом? С развернутым ответом?"
   ]
  },
  {
   "cell_type": "code",
   "execution_count": 17,
   "id": "a131b50a",
   "metadata": {},
   "outputs": [
    {
     "data": {
      "text/plain": [
       "27"
      ]
     },
     "execution_count": 17,
     "metadata": {},
     "output_type": "execute_result"
    }
   ],
   "source": [
    "mylen = np.vectorize(len)\n",
    "short = mylen(data[:,5])[0]\n",
    "short"
   ]
  },
  {
   "cell_type": "code",
   "execution_count": 18,
   "id": "f773b1e5",
   "metadata": {},
   "outputs": [
    {
     "data": {
      "text/plain": [
       "5"
      ]
     },
     "execution_count": 18,
     "metadata": {},
     "output_type": "execute_result"
    }
   ],
   "source": [
    "long = int(mylen(data[:,6])[0]/4)\n",
    "long"
   ]
  },
  {
   "cell_type": "code",
   "execution_count": 19,
   "id": "20ae843c",
   "metadata": {},
   "outputs": [
    {
     "data": {
      "text/plain": [
       "array(['0(3)0(3)0(3)0(3)0(3)', '0(3)0(3)0(3)0(3)0(3)',\n",
       "       '0(3)0(3)0(3)0(3)0(3)', ..., '3(3)3(3)3(3)2(3)3(3)',\n",
       "       '3(3)3(3)3(3)3(3)3(3)', '3(3)3(3)3(3)3(3)3(3)'], dtype='<U27')"
      ]
     },
     "execution_count": 19,
     "metadata": {},
     "output_type": "execute_result"
    }
   ],
   "source": [
    "data[:,6]"
   ]
  },
  {
   "cell_type": "markdown",
   "id": "5dfd88b1",
   "metadata": {},
   "source": [
    "2.\tПусть задания с кратким ответом будут задания типа В. Соответственно всего по экзамену вопросов класса В: В 1 … В к Посчитайте процент выполненных и невыполненных заданий по каждому вопросу класса В. "
   ]
  },
  {
   "cell_type": "code",
   "execution_count": 20,
   "id": "330fb7ae",
   "metadata": {},
   "outputs": [],
   "source": [
    "def b_score(data,number):\n",
    "    scores = np.array([x[number-1] for x in data])\n",
    "    percent_bad = ((scores =='-')|(scores =='0')).sum()/scores.shape[0]\n",
    "    print(f'Номер задания {number}')\n",
    "    plt.pie([percent_bad,1-percent_bad],labels = ['Невыполнено','Выполнено'])\n",
    "    plt.show()\n",
    "    return 1-percent_bad,percent_bad"
   ]
  },
  {
   "cell_type": "code",
   "execution_count": 21,
   "id": "d6c8dd58",
   "metadata": {},
   "outputs": [
    {
     "name": "stdout",
     "output_type": "stream",
     "text": [
      "Номер задания 2\n"
     ]
    },
    {
     "data": {
      "image/png": "[encoded data removed]",
      "text/plain": [
       "<Figure size 432x288 with 1 Axes>"
      ]
     },
     "metadata": {},
     "output_type": "display_data"
    },
    {
     "data": {
      "text/plain": [
       "(0.8686440677966102, 0.13135593220338984)"
      ]
     },
     "execution_count": 21,
     "metadata": {},
     "output_type": "execute_result"
    }
   ],
   "source": [
    "b_score(data[:,5],2)"
   ]
  },
  {
   "cell_type": "code",
   "execution_count": 22,
   "id": "f58b8a4e",
   "metadata": {},
   "outputs": [],
   "source": [
    "def b_all_scores(data):\n",
    "    res_arr = []\n",
    "    for i in range(short):\n",
    "        scores = np.array([x[i] for x in data])\n",
    "        percent_bad = ((scores =='-')|(scores =='0')).sum()/scores.shape[0]\n",
    "        res_arr.append((1-percent_bad,percent_bad))\n",
    "    return res_arr"
   ]
  },
  {
   "cell_type": "code",
   "execution_count": 23,
   "id": "dd0367ce",
   "metadata": {},
   "outputs": [
    {
     "data": {
      "text/plain": [
       "[(0.8533898305084746, 0.14661016949152542),\n",
       " (0.8686440677966102, 0.13135593220338984),\n",
       " (0.6220338983050848, 0.37796610169491524),\n",
       " (0.44491525423728817, 0.5550847457627118),\n",
       " (0.8296610169491525, 0.17033898305084746),\n",
       " (0.8288135593220339, 0.1711864406779661),\n",
       " (0.8093220338983051, 0.1906779661016949),\n",
       " (0.6559322033898305, 0.3440677966101695),\n",
       " (0.7398305084745762, 0.26016949152542374),\n",
       " (0.35, 0.65),\n",
       " (0.8381355932203389, 0.16186440677966102),\n",
       " (0.7533898305084745, 0.24661016949152542),\n",
       " (0.5661016949152542, 0.43389830508474575),\n",
       " (0.5101694915254238, 0.48983050847457626),\n",
       " (0.4254237288135593, 0.5745762711864407),\n",
       " (0.8186440677966101, 0.18135593220338983),\n",
       " (0.6728813559322033, 0.3271186440677966),\n",
       " (0.6059322033898304, 0.3940677966101695),\n",
       " (0.8194915254237288, 0.1805084745762712),\n",
       " (0.7508474576271187, 0.24915254237288137),\n",
       " (0.7940677966101695, 0.2059322033898305),\n",
       " (0.5076271186440677, 0.4923728813559322),\n",
       " (0.6203389830508474, 0.37966101694915255),\n",
       " (0.9610169491525423, 0.03898305084745763),\n",
       " (0.29915254237288136, 0.7008474576271186),\n",
       " (0.36949152542372876, 0.6305084745762712),\n",
       " (0.2974576271186441, 0.7025423728813559)]"
      ]
     },
     "execution_count": 23,
     "metadata": {},
     "output_type": "execute_result"
    }
   ],
   "source": [
    "b_all_scores(data[:,5])"
   ]
  },
  {
   "cell_type": "markdown",
   "id": "b5c12f5b",
   "metadata": {},
   "source": [
    "3.\tАналогично и с типом С (ответы с развернутым ответом)"
   ]
  },
  {
   "cell_type": "code",
   "execution_count": 24,
   "id": "ad0213f0",
   "metadata": {},
   "outputs": [],
   "source": [
    "def c_score(data,number):\n",
    "    scores = np.array([x.split(')')[number-1][0] for x in data])\n",
    "    percent_bad = ((scores =='-')|(scores =='0')).sum()/scores.shape[0]\n",
    "    print(f'Номер задания {25 + number}')\n",
    "    plt.pie([percent_bad,1-percent_bad],labels = ['Невыполнено','Выполнено'])\n",
    "    plt.show()\n",
    "    return 1-percent_bad,percent_bad"
   ]
  },
  {
   "cell_type": "code",
   "execution_count": 27,
   "id": "01384090",
   "metadata": {},
   "outputs": [
    {
     "name": "stdout",
     "output_type": "stream",
     "text": [
      "Номер задания 29\n"
     ]
    },
    {
     "data": {
      "image/png": "[encoded data removed]",
      "text/plain": [
       "<Figure size 432x288 with 1 Axes>"
      ]
     },
     "metadata": {},
     "output_type": "display_data"
    },
    {
     "data": {
      "text/plain": [
       "(0.23389830508474574, 0.7661016949152543)"
      ]
     },
     "execution_count": 27,
     "metadata": {},
     "output_type": "execute_result"
    }
   ],
   "source": [
    "c_score(data[:,6],4)"
   ]
  },
  {
   "cell_type": "code",
   "execution_count": 28,
   "id": "f093c202",
   "metadata": {},
   "outputs": [],
   "source": [
    "def c_all_scores(data):\n",
    "    res_arr = []\n",
    "    for i in range(long):\n",
    "        scores = np.array([x.split(')')[i][0] for x in data])\n",
    "        percent_bad = ((scores =='-')|(scores =='0')).sum()/scores.shape[0]\n",
    "        res_arr.append((1-percent_bad,percent_bad))\n",
    "    return res_arr"
   ]
  },
  {
   "cell_type": "code",
   "execution_count": 29,
   "id": "216db823",
   "metadata": {},
   "outputs": [
    {
     "data": {
      "text/plain": [
       "[(0.17627118644067796, 0.823728813559322),\n",
       " (0.3822033898305085, 0.6177966101694915),\n",
       " (0.16355932203389834, 0.8364406779661017),\n",
       " (0.23389830508474574, 0.7661016949152543),\n",
       " (0.31779661016949157, 0.6822033898305084)]"
      ]
     },
     "execution_count": 29,
     "metadata": {},
     "output_type": "execute_result"
    }
   ],
   "source": [
    "c_all_scores(data[:,6])"
   ]
  },
  {
   "cell_type": "markdown",
   "id": "ba38885b",
   "metadata": {},
   "source": [
    "4.\tСделайте анализ по двум школам:\n",
    "a.\tпо всем выполненным заданиям типа В\n",
    "b.\tпо заданиям типа С больше 50%\n",
    "c.\tпо среднему балу юношей и девушек\n"
   ]
  },
  {
   "cell_type": "code",
   "execution_count": 33,
   "id": "b2ddfb60",
   "metadata": {},
   "outputs": [
    {
     "data": {
      "text/plain": [
       "[(0.8823529411764706, 0.11764705882352941),\n",
       " (0.8588235294117648, 0.1411764705882353),\n",
       " (0.6411764705882352, 0.3588235294117647),\n",
       " (0.45882352941176474, 0.5411764705882353),\n",
       " (0.8588235294117648, 0.1411764705882353),\n",
       " (0.8470588235294118, 0.15294117647058825),\n",
       " (0.8411764705882353, 0.1588235294117647),\n",
       " (0.6647058823529413, 0.3352941176470588),\n",
       " (0.7470588235294118, 0.2529411764705882),\n",
       " (0.34705882352941175, 0.6529411764705882),\n",
       " (0.8470588235294118, 0.15294117647058825),\n",
       " (0.7823529411764706, 0.21764705882352942),\n",
       " (0.611764705882353, 0.38823529411764707),\n",
       " (0.5588235294117647, 0.4411764705882353),\n",
       " (0.48235294117647054, 0.5176470588235295),\n",
       " (0.8823529411764706, 0.11764705882352941),\n",
       " (0.6764705882352942, 0.3235294117647059),\n",
       " (0.611764705882353, 0.38823529411764707),\n",
       " (0.8705882352941177, 0.12941176470588237),\n",
       " (0.7705882352941177, 0.22941176470588234),\n",
       " (0.7941176470588236, 0.20588235294117646),\n",
       " (0.5235294117647059, 0.4764705882352941),\n",
       " (0.6411764705882352, 0.3588235294117647),\n",
       " (0.9588235294117647, 0.041176470588235294),\n",
       " (0.3176470588235294, 0.6823529411764706),\n",
       " (0.41764705882352937, 0.5823529411764706),\n",
       " (0.37058823529411766, 0.6294117647058823)]"
      ]
     },
     "execution_count": 33,
     "metadata": {},
     "output_type": "execute_result"
    }
   ],
   "source": [
    "data_sch_124 = data[data[:,1] == '152']\n",
    "b_all_scores(data_sch_124[:,5])"
   ]
  },
  {
   "cell_type": "code",
   "execution_count": 34,
   "id": "a3b32977",
   "metadata": {},
   "outputs": [],
   "source": [
    "def c_more_than50(data):\n",
    "    res_arr = []\n",
    "    for i in range(long):\n",
    "        maximum = int(int(data[0].split(')')[i][-1])/2)\n",
    "        scores = np.array([int(x.split(')')[i][0]) for x in data])\n",
    "        percent_good = (scores > maximum).sum()/scores.shape[0]\n",
    "        res_arr.append((percent_good,1-percent_good))\n",
    "    return res_arr"
   ]
  },
  {
   "cell_type": "code",
   "execution_count": 35,
   "id": "bed7f2c9",
   "metadata": {},
   "outputs": [
    {
     "data": {
      "text/plain": [
       "array(['0(3)0(3)0(3)0(3)0(3)', '0(3)0(3)0(3)0(3)0(3)',\n",
       "       '0(3)0(3)0(3)0(3)0(3)', '0(3)0(3)0(3)0(3)0(3)',\n",
       "       '0(3)0(3)0(3)0(3)0(3)', '0(3)0(3)0(3)0(3)0(3)',\n",
       "       '0(3)0(3)0(3)0(3)0(3)', '0(3)0(3)0(3)0(3)1(3)',\n",
       "       '0(3)0(3)0(3)0(3)0(3)', '0(3)0(3)0(3)0(3)0(3)',\n",
       "       '0(3)0(3)0(3)0(3)0(3)', '0(3)0(3)0(3)0(3)0(3)',\n",
       "       '0(3)0(3)0(3)0(3)0(3)', '0(3)0(3)0(3)0(3)0(3)',\n",
       "       '0(3)0(3)0(3)0(3)0(3)', '0(3)0(3)0(3)0(3)0(3)',\n",
       "       '0(3)0(3)0(3)0(3)0(3)', '0(3)0(3)0(3)0(3)0(3)',\n",
       "       '0(3)0(3)0(3)0(3)0(3)', '0(3)0(3)0(3)0(3)0(3)',\n",
       "       '0(3)0(3)0(3)0(3)0(3)', '0(3)0(3)0(3)0(3)0(3)',\n",
       "       '0(3)0(3)0(3)0(3)0(3)', '0(3)0(3)0(3)0(3)0(3)',\n",
       "       '0(3)0(3)0(3)0(3)0(3)', '0(3)0(3)0(3)0(3)0(3)',\n",
       "       '0(3)0(3)0(3)0(3)0(3)', '0(3)0(3)0(3)0(3)0(3)',\n",
       "       '0(3)0(3)0(3)0(3)0(3)', '0(3)0(3)0(3)0(3)0(3)',\n",
       "       '0(3)0(3)0(3)0(3)0(3)', '0(3)0(3)0(3)0(3)0(3)',\n",
       "       '0(3)0(3)0(3)0(3)0(3)', '0(3)0(3)0(3)0(3)0(3)',\n",
       "       '0(3)0(3)0(3)0(3)0(3)', '0(3)0(3)0(3)0(3)0(3)',\n",
       "       '0(3)0(3)0(3)0(3)0(3)', '0(3)0(3)0(3)0(3)0(3)',\n",
       "       '0(3)0(3)0(3)0(3)0(3)', '0(3)0(3)0(3)0(3)0(3)',\n",
       "       '0(3)0(3)0(3)0(3)0(3)', '0(3)0(3)0(3)0(3)0(3)',\n",
       "       '0(3)0(3)0(3)0(3)0(3)', '0(3)0(3)0(3)0(3)0(3)',\n",
       "       '0(3)0(3)0(3)0(3)0(3)', '0(3)0(3)0(3)0(3)0(3)',\n",
       "       '0(3)0(3)0(3)0(3)0(3)', '0(3)0(3)0(3)0(3)1(3)',\n",
       "       '0(3)0(3)0(3)0(3)0(3)', '0(3)0(3)0(3)0(3)0(3)',\n",
       "       '0(3)0(3)0(3)0(3)0(3)', '0(3)0(3)0(3)0(3)0(3)',\n",
       "       '0(3)0(3)0(3)0(3)0(3)', '0(3)0(3)0(3)0(3)0(3)',\n",
       "       '0(3)0(3)0(3)0(3)0(3)', '0(3)0(3)0(3)0(3)0(3)',\n",
       "       '0(3)0(3)0(3)0(3)0(3)', '0(3)0(3)0(3)0(3)0(3)',\n",
       "       '0(3)0(3)0(3)0(3)0(3)', '0(3)0(3)0(3)0(3)0(3)',\n",
       "       '0(3)0(3)0(3)0(3)0(3)', '0(3)0(3)0(3)0(3)0(3)',\n",
       "       '0(3)0(3)0(3)0(3)0(3)', '0(3)0(3)0(3)0(3)0(3)',\n",
       "       '0(3)0(3)0(3)0(3)0(3)', '0(3)0(3)0(3)0(3)0(3)',\n",
       "       '0(3)2(3)0(3)0(3)1(3)', '0(3)0(3)0(3)0(3)0(3)',\n",
       "       '0(3)0(3)0(3)0(3)1(3)', '0(3)0(3)0(3)0(3)0(3)',\n",
       "       '0(3)0(3)0(3)0(3)0(3)', '0(3)1(3)0(3)0(3)0(3)',\n",
       "       '0(3)0(3)0(3)1(3)1(3)', '0(3)0(3)0(3)0(3)0(3)',\n",
       "       '0(3)0(3)0(3)0(3)1(3)', '0(3)0(3)0(3)0(3)0(3)',\n",
       "       '0(3)0(3)0(3)0(3)0(3)', '0(3)0(3)0(3)0(3)0(3)',\n",
       "       '0(3)0(3)1(3)0(3)1(3)', '0(3)0(3)0(3)0(3)0(3)',\n",
       "       '0(3)0(3)0(3)0(3)0(3)', '0(3)0(3)0(3)0(3)0(3)',\n",
       "       '0(3)0(3)0(3)0(3)0(3)', '0(3)0(3)0(3)0(3)1(3)',\n",
       "       '0(3)0(3)0(3)0(3)0(3)', '0(3)1(3)0(3)0(3)0(3)',\n",
       "       '2(3)0(3)0(3)0(3)0(3)', '0(3)0(3)0(3)0(3)0(3)',\n",
       "       '0(3)1(3)0(3)1(3)0(3)', '0(3)1(3)0(3)1(3)1(3)',\n",
       "       '0(3)2(3)0(3)0(3)0(3)', '0(3)0(3)2(3)1(3)0(3)',\n",
       "       '0(3)1(3)0(3)0(3)1(3)', '0(3)0(3)0(3)0(3)2(3)',\n",
       "       '0(3)1(3)0(3)0(3)1(3)', '0(3)1(3)0(3)0(3)0(3)',\n",
       "       '0(3)1(3)0(3)1(3)0(3)', '0(3)0(3)0(3)0(3)2(3)',\n",
       "       '0(3)2(3)0(3)0(3)1(3)', '0(3)2(3)0(3)0(3)1(3)',\n",
       "       '1(3)3(3)0(3)1(3)0(3)', '0(3)0(3)0(3)0(3)0(3)',\n",
       "       '0(3)1(3)0(3)0(3)0(3)', '0(3)2(3)0(3)0(3)0(3)',\n",
       "       '0(3)3(3)0(3)0(3)0(3)', '0(3)0(3)0(3)0(3)0(3)',\n",
       "       '0(3)3(3)0(3)0(3)0(3)', '0(3)0(3)0(3)1(3)1(3)',\n",
       "       '0(3)1(3)0(3)0(3)0(3)', '0(3)1(3)0(3)1(3)0(3)',\n",
       "       '1(3)0(3)0(3)1(3)1(3)', '0(3)1(3)1(3)1(3)0(3)',\n",
       "       '0(3)3(3)0(3)0(3)3(3)', '0(3)1(3)0(3)0(3)1(3)',\n",
       "       '0(3)1(3)0(3)0(3)0(3)', '0(3)3(3)0(3)1(3)2(3)',\n",
       "       '0(3)1(3)0(3)0(3)1(3)', '0(3)3(3)0(3)0(3)2(3)',\n",
       "       '0(3)1(3)0(3)0(3)1(3)', '0(3)3(3)0(3)1(3)1(3)',\n",
       "       '0(3)3(3)0(3)1(3)0(3)', '0(3)3(3)0(3)0(3)0(3)',\n",
       "       '0(3)1(3)0(3)1(3)1(3)', '0(3)1(3)0(3)1(3)3(3)',\n",
       "       '0(3)3(3)0(3)1(3)1(3)', '0(3)3(3)1(3)1(3)2(3)',\n",
       "       '1(3)3(3)0(3)0(3)3(3)', '1(3)3(3)1(3)1(3)3(3)',\n",
       "       '1(3)3(3)1(3)0(3)3(3)', '1(3)1(3)2(3)1(3)1(3)',\n",
       "       '0(3)1(3)2(3)1(3)0(3)', '0(3)2(3)0(3)0(3)3(3)',\n",
       "       '1(3)1(3)3(3)1(3)2(3)', '0(3)3(3)1(3)1(3)2(3)',\n",
       "       '0(3)3(3)0(3)0(3)3(3)', '0(3)2(3)0(3)1(3)1(3)',\n",
       "       '0(3)2(3)0(3)0(3)3(3)', '1(3)1(3)1(3)1(3)3(3)',\n",
       "       '1(3)3(3)1(3)0(3)3(3)', '0(3)3(3)0(3)0(3)2(3)',\n",
       "       '2(3)2(3)0(3)2(3)3(3)', '1(3)3(3)1(3)2(3)2(3)',\n",
       "       '1(3)3(3)0(3)1(3)2(3)', '0(3)2(3)1(3)1(3)3(3)',\n",
       "       '2(3)1(3)0(3)1(3)3(3)', '1(3)3(3)3(3)1(3)2(3)',\n",
       "       '1(3)2(3)3(3)1(3)1(3)', '1(3)2(3)3(3)1(3)2(3)',\n",
       "       '0(3)3(3)3(3)1(3)3(3)', '0(3)3(3)2(3)1(3)3(3)',\n",
       "       '2(3)3(3)0(3)2(3)2(3)', '0(3)3(3)3(3)0(3)3(3)',\n",
       "       '0(3)3(3)3(3)1(3)3(3)', '3(3)3(3)0(3)1(3)3(3)',\n",
       "       '2(3)2(3)3(3)1(3)2(3)', '3(3)1(3)3(3)1(3)2(3)',\n",
       "       '1(3)3(3)3(3)1(3)3(3)', '1(3)3(3)3(3)0(3)3(3)',\n",
       "       '1(3)3(3)3(3)2(3)3(3)', '2(3)3(3)3(3)0(3)3(3)',\n",
       "       '2(3)3(3)1(3)1(3)3(3)', '0(3)3(3)3(3)1(3)3(3)',\n",
       "       '1(3)3(3)3(3)1(3)2(3)', '1(3)3(3)3(3)3(3)3(3)',\n",
       "       '1(3)3(3)3(3)1(3)3(3)', '2(3)3(3)3(3)2(3)2(3)',\n",
       "       '1(3)3(3)3(3)3(3)3(3)', '3(3)3(3)3(3)1(3)3(3)',\n",
       "       '3(3)3(3)3(3)1(3)3(3)', '3(3)3(3)3(3)2(3)3(3)'], dtype='<U27')"
      ]
     },
     "execution_count": 35,
     "metadata": {},
     "output_type": "execute_result"
    }
   ],
   "source": [
    "data_sch_124[:,6]"
   ]
  },
  {
   "cell_type": "code",
   "execution_count": 36,
   "id": "c75e7948",
   "metadata": {},
   "outputs": [
    {
     "data": {
      "text/plain": [
       "[(0.07647058823529412, 0.9235294117647059),\n",
       " (0.3176470588235294, 0.6823529411764706),\n",
       " (0.15294117647058825, 0.8470588235294118),\n",
       " (0.047058823529411764, 0.9529411764705882),\n",
       " (0.27647058823529413, 0.7235294117647059)]"
      ]
     },
     "execution_count": 36,
     "metadata": {},
     "output_type": "execute_result"
    }
   ],
   "source": [
    "c_more_than50(data_sch_124[:,6])"
   ]
  },
  {
   "cell_type": "code",
   "execution_count": 37,
   "id": "db8a5ba4",
   "metadata": {},
   "outputs": [
    {
     "data": {
      "text/plain": [
       "<AxesSubplot:ylabel='Density'>"
      ]
     },
     "execution_count": 37,
     "metadata": {},
     "output_type": "execute_result"
    },
    {
     "data": {
      "image/png": "[encoded data removed]",
      "text/plain": [
       "<Figure size 432x288 with 1 Axes>"
      ]
     },
     "metadata": {
      "needs_background": "light"
     },
     "output_type": "display_data"
    }
   ],
   "source": [
    "scores_man = data_sch_124[:,9][data_sch_124[:,3]=='М'].astype(int)\n",
    "sns.kdeplot(scores_man.astype(int))"
   ]
  },
  {
   "cell_type": "code",
   "execution_count": 38,
   "id": "9e7d4855",
   "metadata": {},
   "outputs": [
    {
     "data": {
      "text/plain": [
       "<AxesSubplot:ylabel='Density'>"
      ]
     },
     "execution_count": 38,
     "metadata": {},
     "output_type": "execute_result"
    },
    {
     "data": {
      "image/png": "[encoded data removed]",
      "text/plain": [
       "<Figure size 432x288 with 1 Axes>"
      ]
     },
     "metadata": {
      "needs_background": "light"
     },
     "output_type": "display_data"
    }
   ],
   "source": [
    "scores_woman = data_sch_124[:,9][data_sch_124[:,3]=='Ж'].astype(int)\n",
    "sns.kdeplot(scores_woman.astype(int))"
   ]
  },
  {
   "cell_type": "code",
   "execution_count": 40,
   "id": "4b7f4a42",
   "metadata": {},
   "outputs": [
    {
     "data": {
      "text/plain": [
       "[(0.9850746268656716, 0.014925373134328358),\n",
       " (0.9402985074626866, 0.05970149253731343),\n",
       " (0.6417910447761195, 0.3582089552238806),\n",
       " (0.5522388059701493, 0.44776119402985076),\n",
       " (0.8805970149253731, 0.11940298507462686),\n",
       " (0.8955223880597015, 0.1044776119402985),\n",
       " (0.8955223880597015, 0.1044776119402985),\n",
       " (0.7164179104477613, 0.2835820895522388),\n",
       " (0.8656716417910448, 0.13432835820895522),\n",
       " (0.5074626865671642, 0.4925373134328358),\n",
       " (0.9402985074626866, 0.05970149253731343),\n",
       " (0.835820895522388, 0.16417910447761194),\n",
       " (0.6716417910447761, 0.3283582089552239),\n",
       " (0.6417910447761195, 0.3582089552238806),\n",
       " (0.6268656716417911, 0.373134328358209),\n",
       " (0.8059701492537313, 0.19402985074626866),\n",
       " (0.7014925373134329, 0.29850746268656714),\n",
       " (0.6865671641791045, 0.31343283582089554),\n",
       " (0.8955223880597015, 0.1044776119402985),\n",
       " (0.8208955223880597, 0.1791044776119403),\n",
       " (0.9104477611940298, 0.08955223880597014),\n",
       " (0.6865671641791045, 0.31343283582089554),\n",
       " (0.7014925373134329, 0.29850746268656714),\n",
       " (0.9701492537313433, 0.029850746268656716),\n",
       " (0.417910447761194, 0.582089552238806),\n",
       " (0.4776119402985075, 0.5223880597014925),\n",
       " (0.4626865671641791, 0.5373134328358209)]"
      ]
     },
     "execution_count": 40,
     "metadata": {},
     "output_type": "execute_result"
    }
   ],
   "source": [
    "data_sch_136 = data[data[:,1] == '147']\n",
    "b_all_scores(data_sch_136[:,5])"
   ]
  },
  {
   "cell_type": "code",
   "execution_count": 41,
   "id": "d8882ea4",
   "metadata": {},
   "outputs": [
    {
     "data": {
      "text/plain": [
       "[(0.13432835820895522, 0.8656716417910448),\n",
       " (0.373134328358209, 0.6268656716417911),\n",
       " (0.11940298507462686, 0.8805970149253731),\n",
       " (0.05970149253731343, 0.9402985074626866),\n",
       " (0.3283582089552239, 0.6716417910447761)]"
      ]
     },
     "execution_count": 41,
     "metadata": {},
     "output_type": "execute_result"
    }
   ],
   "source": [
    "c_more_than50(data_sch_136[:,6])"
   ]
  },
  {
   "cell_type": "code",
   "execution_count": 42,
   "id": "e8765091",
   "metadata": {},
   "outputs": [
    {
     "data": {
      "text/plain": [
       "<AxesSubplot:ylabel='Density'>"
      ]
     },
     "execution_count": 42,
     "metadata": {},
     "output_type": "execute_result"
    },
    {
     "data": {
      "image/png": "[encoded data removed]",
      "text/plain": [
       "<Figure size 432x288 with 1 Axes>"
      ]
     },
     "metadata": {
      "needs_background": "light"
     },
     "output_type": "display_data"
    }
   ],
   "source": [
    "scores_man = data_sch_136[:,9][data_sch_136[:,3]=='М'].astype(int)\n",
    "sns.kdeplot(scores_man.astype(int))"
   ]
  },
  {
   "cell_type": "code",
   "execution_count": 43,
   "id": "78f31f93",
   "metadata": {},
   "outputs": [
    {
     "data": {
      "text/plain": [
       "<AxesSubplot:ylabel='Density'>"
      ]
     },
     "execution_count": 43,
     "metadata": {},
     "output_type": "execute_result"
    },
    {
     "data": {
      "image/png": "[encoded data removed]",
      "text/plain": [
       "<Figure size 432x288 with 1 Axes>"
      ]
     },
     "metadata": {
      "needs_background": "light"
     },
     "output_type": "display_data"
    }
   ],
   "source": [
    "scores_woman = data_sch_136[:,9][data_sch_136[:,3]=='Ж'].astype(int)\n",
    "sns.kdeplot(scores_woman.astype(int))"
   ]
  },
  {
   "cell_type": "code",
   "execution_count": 45,
   "id": "4b7d1655",
   "metadata": {},
   "outputs": [],
   "source": [
    "file = 'data/Вариант 4.csv'"
   ]
  },
  {
   "cell_type": "code",
   "execution_count": 46,
   "id": "b702005a",
   "metadata": {},
   "outputs": [
    {
     "data": {
      "text/plain": [
       "array([['1', '148', '13', 'М', '505', '-----------------------',\n",
       "        '0(3)0(2)0(3)0(4)', '', '0', '0', '40'],\n",
       "       ['2', '147', '11', 'М', '328', '-----------------------',\n",
       "        '0(3)0(2)0(3)0(4)', '', '0', '0', '40'],\n",
       "       ['3', '111', '11', 'М', '330', '---+---+-+-------------',\n",
       "        '0(3)0(2)0(3)0(4)', '', '3', '20', '40'],\n",
       "       ['4', '140', '11', 'М', '328', '---+---------++--------',\n",
       "        '0(3)0(2)0(3)0(4)', '', '3', '20', '40'],\n",
       "       ['5', '148', '11', 'М', '328', '----+---------+-----+--',\n",
       "        '0(3)0(2)0(3)0(4)', '', '3', '20', '40']], dtype='<U23')"
      ]
     },
     "execution_count": 46,
     "metadata": {},
     "output_type": "execute_result"
    }
   ],
   "source": [
    "import numpy as np\n",
    "data = np.loadtxt(open(file,'rt').readlines()[:-1],skiprows = 3,delimiter = ',',dtype=(str))\n",
    "data[:5]"
   ]
  },
  {
   "cell_type": "code",
   "execution_count": 47,
   "id": "2ab66c72",
   "metadata": {},
   "outputs": [
    {
     "data": {
      "text/plain": [
       "array([['05-Информатика и ИКТ', '', '', '', '', '', '', '', '', '', ''],\n",
       "       ['', '', '', '', '', '', '', '', '', '', ''],\n",
       "       ['№', '№ школы', 'Класс', 'Пол', 'Номер варианта',\n",
       "        'Задания с кратким ответом', 'Задания с развёрнутым ответом',\n",
       "        'Устная часть', 'Первичный балл', 'Балл', 'Минимальный балл']],\n",
       "      dtype='<U29')"
      ]
     },
     "execution_count": 47,
     "metadata": {},
     "output_type": "execute_result"
    }
   ],
   "source": [
    "header = np.loadtxt(open(file,'rt').readlines()[:3],delimiter = ',',dtype=(str),skiprows = 0)\n",
    "if 'Русский язык' in header[0][0]:\n",
    "    grades = [23,56,71]\n",
    "if 'Математика' in header[0][0]:\n",
    "    grades = [24,46,64]    \n",
    "if 'Физика' in header[0][0]:\n",
    "    grades = [35,52,67]\n",
    "if 'Информатика' in header[0][0]:\n",
    "    grades = [23,56,71]\n",
    "header"
   ]
  },
  {
   "cell_type": "markdown",
   "id": "b3131c1f",
   "metadata": {},
   "source": [
    "2.\tСделайте описательную статистику по набранному баллу"
   ]
  },
  {
   "cell_type": "code",
   "execution_count": 48,
   "id": "7b61b4c1",
   "metadata": {},
   "outputs": [],
   "source": [
    "from scipy import stats"
   ]
  },
  {
   "cell_type": "code",
   "execution_count": 49,
   "id": "6af52fde",
   "metadata": {},
   "outputs": [
    {
     "data": {
      "text/plain": [
       "DescribeResult(nobs=141, minmax=(0, 100), mean=60.780141843971634, variance=377.1298885511651, skewness=-0.5896342992506792, kurtosis=0.3739909052697099)"
      ]
     },
     "execution_count": 49,
     "metadata": {},
     "output_type": "execute_result"
    }
   ],
   "source": [
    "descriptive_stats = stats.describe(data[:,9].astype(int))\n",
    "descriptive_stats"
   ]
  },
  {
   "cell_type": "markdown",
   "id": "d6cf0e82",
   "metadata": {},
   "source": [
    "3.\tНайдите процент учащихся, выполнивших работу ниже среднего"
   ]
  },
  {
   "cell_type": "code",
   "execution_count": 50,
   "id": "941decf0",
   "metadata": {},
   "outputs": [
    {
     "data": {
      "text/plain": [
       "0.46099290780141844"
      ]
     },
     "execution_count": 50,
     "metadata": {},
     "output_type": "execute_result"
    }
   ],
   "source": [
    "data[data[:,9].astype(int)<descriptive_stats.mean].shape[0]/data.shape[0]"
   ]
  },
  {
   "cell_type": "markdown",
   "id": "16c8b6c0",
   "metadata": {},
   "source": [
    "4.\tНайти процент учащихся не сдавших экзамен"
   ]
  },
  {
   "cell_type": "code",
   "execution_count": 51,
   "id": "d525ec0d",
   "metadata": {},
   "outputs": [
    {
     "data": {
      "text/plain": [
       "0.11347517730496454"
      ]
     },
     "execution_count": 51,
     "metadata": {},
     "output_type": "execute_result"
    }
   ],
   "source": [
    "bad_mark = data[data[:,9].astype(int)<data[:,10].astype(int)].shape[0]/data.shape[0]\n",
    "bad_mark"
   ]
  },
  {
   "cell_type": "markdown",
   "id": "cb30f325",
   "metadata": {},
   "source": [
    "5.\tПостройте круговую диаграмму, показывающую распределение сдавших и не сдавших экзамен"
   ]
  },
  {
   "cell_type": "code",
   "execution_count": 52,
   "id": "007a7bc2",
   "metadata": {},
   "outputs": [
    {
     "data": {
      "image/png": "[encoded data removed]",
      "text/plain": [
       "<Figure size 432x288 with 1 Axes>"
      ]
     },
     "metadata": {},
     "output_type": "display_data"
    }
   ],
   "source": [
    "import matplotlib.pyplot as plt\n",
    "import seaborn as sns\n",
    "\n",
    "plt.pie([bad_mark,1-bad_mark],labels = ['Не сдали','Сдали'])\n",
    "plt.show()"
   ]
  },
  {
   "cell_type": "markdown",
   "id": "3685d647",
   "metadata": {},
   "source": [
    "6.\tПостройте ядерную оценку плотности распределению баллов за экзамен"
   ]
  },
  {
   "cell_type": "code",
   "execution_count": 53,
   "id": "12d71eab",
   "metadata": {},
   "outputs": [
    {
     "data": {
      "text/plain": [
       "<AxesSubplot:ylabel='Density'>"
      ]
     },
     "execution_count": 53,
     "metadata": {},
     "output_type": "execute_result"
    },
    {
     "data": {
      "image/png": "[encoded data removed]",
      "text/plain": [
       "<Figure size 432x288 with 1 Axes>"
      ]
     },
     "metadata": {
      "needs_background": "light"
     },
     "output_type": "display_data"
    }
   ],
   "source": [
    "sns.kdeplot(data[:,9].astype(int))"
   ]
  },
  {
   "cell_type": "markdown",
   "id": "0fffc45a",
   "metadata": {},
   "source": [
    "7.\tНайдите процентное соотношение учащихся, сдавших экзамен на «отлично», «хорошо», «удовлетворительно», «неудовлетворительно»."
   ]
  },
  {
   "cell_type": "code",
   "execution_count": 54,
   "id": "bafe09b8",
   "metadata": {},
   "outputs": [],
   "source": [
    "scores = data[:,9].astype(int)\n",
    "neud = (scores < grades[0]).sum()/scores.shape[0]\n",
    "ud = ((scores > grades[0]) & (scores <= grades[1])).sum()/scores.shape[0]\n",
    "hor = ((scores > grades[1]) & (scores <= grades[2])).sum()/scores.shape[0]\n",
    "otl = (scores > grades[2]).sum()/scores.shape[0]"
   ]
  },
  {
   "cell_type": "code",
   "execution_count": 55,
   "id": "9fa72d7c",
   "metadata": {},
   "outputs": [
    {
     "data": {
      "image/png": "[encoded data removed]",
      "text/plain": [
       "<Figure size 432x288 with 1 Axes>"
      ]
     },
     "metadata": {},
     "output_type": "display_data"
    }
   ],
   "source": [
    "plt.pie([neud,ud,hor,otl],labels = ['Неуд','Уд','Хор','Отл'])\n",
    "plt.show()"
   ]
  },
  {
   "cell_type": "markdown",
   "id": "6e7b2d93",
   "metadata": {},
   "source": [
    "8.\tКакое процентное соотношение юношей и девушек писало данный экзамен? "
   ]
  },
  {
   "cell_type": "code",
   "execution_count": 56,
   "id": "21b809fb",
   "metadata": {},
   "outputs": [
    {
     "data": {
      "text/plain": [
       "(0.7730496453900709, 0.22695035460992907)"
      ]
     },
     "execution_count": 56,
     "metadata": {},
     "output_type": "execute_result"
    }
   ],
   "source": [
    "man = (data[:,3] =='М').sum()/data[:,3].shape[0]\n",
    "woman = 1-man\n",
    "man,woman"
   ]
  },
  {
   "cell_type": "markdown",
   "id": "aadb2281",
   "metadata": {},
   "source": [
    "9.\tСколько школ принимало участие в экзамене?"
   ]
  },
  {
   "cell_type": "code",
   "execution_count": 57,
   "id": "b5ecc056",
   "metadata": {},
   "outputs": [
    {
     "data": {
      "text/plain": [
       "10"
      ]
     },
     "execution_count": 57,
     "metadata": {},
     "output_type": "execute_result"
    }
   ],
   "source": [
    "len(list(set(data[:,1].tolist())))"
   ]
  },
  {
   "cell_type": "markdown",
   "id": "8db65761",
   "metadata": {},
   "source": [
    "1.\tСколько всего заданий с кратким ответом? С развернутым ответом?"
   ]
  },
  {
   "cell_type": "code",
   "execution_count": 58,
   "id": "a131b50a",
   "metadata": {},
   "outputs": [
    {
     "data": {
      "text/plain": [
       "23"
      ]
     },
     "execution_count": 58,
     "metadata": {},
     "output_type": "execute_result"
    }
   ],
   "source": [
    "mylen = np.vectorize(len)\n",
    "short = mylen(data[:,5])[0]\n",
    "short"
   ]
  },
  {
   "cell_type": "code",
   "execution_count": 59,
   "id": "f773b1e5",
   "metadata": {},
   "outputs": [
    {
     "data": {
      "text/plain": [
       "4"
      ]
     },
     "execution_count": 59,
     "metadata": {},
     "output_type": "execute_result"
    }
   ],
   "source": [
    "long = int(mylen(data[:,6])[0]/4)\n",
    "long"
   ]
  },
  {
   "cell_type": "code",
   "execution_count": 60,
   "id": "ac13e8e4",
   "metadata": {},
   "outputs": [
    {
     "data": {
      "text/plain": [
       "array(['0(3)0(2)0(3)0(4)', '0(3)0(2)0(3)0(4)', '0(3)0(2)0(3)0(4)',\n",
       "       '0(3)0(2)0(3)0(4)', '0(3)0(2)0(3)0(4)', '0(3)0(2)0(3)0(4)',\n",
       "       '0(3)0(2)0(3)0(4)', '0(3)0(2)0(3)0(4)', '0(3)0(2)0(3)0(4)',\n",
       "       '0(3)0(2)0(3)0(4)', '0(3)0(2)0(3)0(4)', '0(3)0(2)0(3)0(4)',\n",
       "       '0(3)0(2)0(3)0(4)', '0(3)0(2)0(3)0(4)', '0(3)0(2)0(3)0(4)',\n",
       "       '0(3)0(2)0(3)0(4)', '0(3)0(2)0(3)0(4)', '0(3)0(2)0(3)0(4)',\n",
       "       '0(3)0(2)1(3)0(4)', '0(3)0(2)0(3)0(4)', '0(3)0(2)0(3)0(4)',\n",
       "       '0(3)0(2)0(3)0(4)', '2(3)0(2)0(3)0(4)', '1(3)0(2)0(3)0(4)',\n",
       "       '0(3)0(2)0(3)0(4)', '0(3)0(2)0(3)0(4)', '0(3)0(2)0(3)0(4)',\n",
       "       '1(3)1(2)0(3)1(4)', '0(3)0(2)0(3)0(4)', '0(3)0(2)1(3)0(4)',\n",
       "       '1(3)0(2)0(3)0(4)', '0(3)0(2)0(3)0(4)', '2(3)0(2)1(3)0(4)',\n",
       "       '0(3)0(2)0(3)0(4)', '0(3)0(2)0(3)0(4)', '0(3)0(2)1(3)0(4)',\n",
       "       '2(3)0(2)0(3)0(4)', '0(3)0(2)0(3)0(4)', '1(3)0(2)0(3)0(4)',\n",
       "       '2(3)0(2)0(3)0(4)', '0(3)0(2)0(3)0(4)', '2(3)0(2)0(3)0(4)',\n",
       "       '0(3)0(2)0(3)0(4)', '2(3)2(2)1(3)0(4)', '0(3)0(2)1(3)0(4)',\n",
       "       '0(3)0(2)0(3)0(4)', '2(3)0(2)1(3)0(4)', '0(3)0(2)0(3)0(4)',\n",
       "       '0(3)0(2)0(3)0(4)', '2(3)0(2)0(3)0(4)', '0(3)0(2)1(3)0(4)',\n",
       "       '0(3)0(2)2(3)0(4)', '1(3)1(2)1(3)0(4)', '2(3)0(2)0(3)0(4)',\n",
       "       '0(3)0(2)0(3)0(4)', '2(3)2(2)0(3)0(4)', '2(3)0(2)0(3)0(4)',\n",
       "       '1(3)1(2)2(3)0(4)', '3(3)0(2)0(3)0(4)', '1(3)0(2)2(3)0(4)',\n",
       "       '0(3)0(2)1(3)0(4)', '3(3)0(2)0(3)0(4)', '0(3)0(2)0(3)0(4)',\n",
       "       '2(3)2(2)1(3)0(4)', '1(3)0(2)1(3)0(4)', '0(3)0(2)1(3)0(4)',\n",
       "       '0(3)0(2)2(3)0(4)', '2(3)2(2)0(3)0(4)', '0(3)0(2)3(3)0(4)',\n",
       "       '3(3)2(2)1(3)0(4)', '3(3)1(2)0(3)0(4)', '2(3)2(2)0(3)0(4)',\n",
       "       '2(3)0(2)0(3)0(4)', '2(3)0(2)1(3)0(4)', '2(3)2(2)1(3)1(4)',\n",
       "       '2(3)0(2)1(3)0(4)', '2(3)2(2)2(3)0(4)', '3(3)0(2)2(3)0(4)',\n",
       "       '3(3)2(2)1(3)1(4)', '3(3)0(2)1(3)2(4)', '3(3)0(2)1(3)0(4)',\n",
       "       '3(3)0(2)2(3)0(4)', '3(3)1(2)0(3)2(4)', '0(3)2(2)2(3)0(4)',\n",
       "       '0(3)2(2)0(3)0(4)', '2(3)0(2)2(3)0(4)', '3(3)2(2)0(3)4(4)',\n",
       "       '3(3)0(2)2(3)0(4)', '2(3)2(2)2(3)1(4)', '3(3)0(2)2(3)0(4)',\n",
       "       '2(3)2(2)0(3)1(4)', '3(3)2(2)1(3)0(4)', '3(3)2(2)3(3)0(4)',\n",
       "       '3(3)2(2)0(3)0(4)', '2(3)1(2)1(3)0(4)', '2(3)2(2)3(3)2(4)',\n",
       "       '2(3)2(2)0(3)1(4)', '3(3)2(2)1(3)1(4)', '3(3)2(2)2(3)1(4)',\n",
       "       '3(3)1(2)1(3)0(4)', '3(3)2(2)3(3)0(4)', '3(3)2(2)1(3)2(4)',\n",
       "       '3(3)1(2)0(3)1(4)', '3(3)2(2)2(3)3(4)', '2(3)2(2)2(3)0(4)',\n",
       "       '3(3)0(2)2(3)0(4)', '3(3)0(2)1(3)1(4)', '3(3)1(2)1(3)1(4)',\n",
       "       '2(3)2(2)0(3)2(4)', '2(3)2(2)1(3)2(4)', '2(3)1(2)3(3)1(4)',\n",
       "       '1(3)1(2)3(3)2(4)', '3(3)2(2)1(3)0(4)', '2(3)2(2)3(3)0(4)',\n",
       "       '2(3)2(2)1(3)0(4)', '3(3)2(2)3(3)1(4)', '3(3)2(2)2(3)1(4)',\n",
       "       '3(3)2(2)2(3)1(4)', '3(3)2(2)3(3)0(4)', '3(3)2(2)3(3)2(4)',\n",
       "       '3(3)2(2)3(3)2(4)', '3(3)1(2)1(3)2(4)', '3(3)1(2)2(3)3(4)',\n",
       "       '3(3)2(2)1(3)0(4)', '3(3)2(2)3(3)2(4)', '3(3)1(2)3(3)2(4)',\n",
       "       '3(3)1(2)3(3)1(4)', '3(3)2(2)2(3)2(4)', '3(3)1(2)3(3)4(4)',\n",
       "       '3(3)2(2)3(3)1(4)', '3(3)2(2)3(3)2(4)', '3(3)1(2)2(3)4(4)',\n",
       "       '3(3)2(2)3(3)1(4)', '3(3)1(2)2(3)2(4)', '3(3)1(2)3(3)4(4)',\n",
       "       '3(3)2(2)3(3)2(4)', '3(3)2(2)3(3)4(4)', '3(3)2(2)2(3)4(4)',\n",
       "       '3(3)2(2)3(3)4(4)', '3(3)2(2)3(3)4(4)', '3(3)2(2)3(3)4(4)'],\n",
       "      dtype='<U23')"
      ]
     },
     "execution_count": 60,
     "metadata": {},
     "output_type": "execute_result"
    }
   ],
   "source": [
    "data[:,6]"
   ]
  },
  {
   "cell_type": "markdown",
   "id": "5dfd88b1",
   "metadata": {},
   "source": [
    "2.\tПусть задания с кратким ответом будут задания типа В. Соответственно всего по экзамену вопросов класса В: В 1 … В к Посчитайте процент выполненных и невыполненных заданий по каждому вопросу класса В. "
   ]
  },
  {
   "cell_type": "code",
   "execution_count": 61,
   "id": "330fb7ae",
   "metadata": {},
   "outputs": [],
   "source": [
    "def b_score(data,number):\n",
    "    scores = np.array([x[number-1] for x in data])\n",
    "    percent_bad = ((scores =='-')|(scores =='0')).sum()/scores.shape[0]\n",
    "    print(f'Номер задания {number}')\n",
    "    plt.pie([percent_bad,1-percent_bad],labels = ['Невыполнено','Выполнено'])\n",
    "    plt.show()\n",
    "    return 1-percent_bad,percent_bad"
   ]
  },
  {
   "cell_type": "code",
   "execution_count": 62,
   "id": "d6c8dd58",
   "metadata": {},
   "outputs": [
    {
     "name": "stdout",
     "output_type": "stream",
     "text": [
      "Номер задания 2\n"
     ]
    },
    {
     "data": {
      "image/png": "[encoded data removed]",
      "text/plain": [
       "<Figure size 432x288 with 1 Axes>"
      ]
     },
     "metadata": {},
     "output_type": "display_data"
    },
    {
     "data": {
      "text/plain": [
       "(0.6099290780141844, 0.3900709219858156)"
      ]
     },
     "execution_count": 62,
     "metadata": {},
     "output_type": "execute_result"
    }
   ],
   "source": [
    "b_score(data[:,5],2)"
   ]
  },
  {
   "cell_type": "code",
   "execution_count": 63,
   "id": "911c4715",
   "metadata": {},
   "outputs": [],
   "source": [
    "def b_all_scores(data):\n",
    "    res_arr = []\n",
    "    for i in range(short):\n",
    "        scores = np.array([x[i] for x in data])\n",
    "        percent_bad = ((scores =='-')|(scores =='0')).sum()/scores.shape[0]\n",
    "        res_arr.append((1-percent_bad,percent_bad))\n",
    "    return res_arr"
   ]
  },
  {
   "cell_type": "code",
   "execution_count": 64,
   "id": "c45633d4",
   "metadata": {},
   "outputs": [
    {
     "data": {
      "text/plain": [
       "[(0.8156028368794326, 0.18439716312056736),\n",
       " (0.6099290780141844, 0.3900709219858156),\n",
       " (0.7943262411347518, 0.20567375886524822),\n",
       " (0.7872340425531915, 0.2127659574468085),\n",
       " (0.6808510638297872, 0.3191489361702128),\n",
       " (0.6170212765957447, 0.3829787234042553),\n",
       " (0.9219858156028369, 0.07801418439716312),\n",
       " (0.8652482269503546, 0.1347517730496454),\n",
       " (0.4964539007092199, 0.5035460992907801),\n",
       " (0.5957446808510638, 0.40425531914893614),\n",
       " (0.43262411347517726, 0.5673758865248227),\n",
       " (0.5390070921985816, 0.46099290780141844),\n",
       " (0.6099290780141844, 0.3900709219858156),\n",
       " (0.7659574468085106, 0.23404255319148937),\n",
       " (0.7163120567375887, 0.28368794326241137),\n",
       " (0.624113475177305, 0.375886524822695),\n",
       " (0.6808510638297872, 0.3191489361702128),\n",
       " (0.3120567375886525, 0.6879432624113475),\n",
       " (0.6808510638297872, 0.3191489361702128),\n",
       " (0.12765957446808507, 0.8723404255319149),\n",
       " (0.34042553191489366, 0.6595744680851063),\n",
       " (0.36879432624113473, 0.6312056737588653),\n",
       " (0.17730496453900713, 0.8226950354609929)]"
      ]
     },
     "execution_count": 64,
     "metadata": {},
     "output_type": "execute_result"
    }
   ],
   "source": [
    "b_all_scores(data[:,5])"
   ]
  },
  {
   "cell_type": "markdown",
   "id": "b5c12f5b",
   "metadata": {},
   "source": [
    "3.\tАналогично и с типом С (ответы с развернутым ответом)"
   ]
  },
  {
   "cell_type": "code",
   "execution_count": 65,
   "id": "ad0213f0",
   "metadata": {},
   "outputs": [],
   "source": [
    "def c_score(data,number):\n",
    "    scores = np.array([x.split(')')[number-1][0] for x in data])\n",
    "    percent_bad = ((scores =='-')|(scores =='0')).sum()/scores.shape[0]\n",
    "    print(f'Номер задания {25 + number}')\n",
    "    plt.pie([percent_bad,1-percent_bad],labels = ['Невыполнено','Выполнено'])\n",
    "    plt.show()\n",
    "    return 1-percent_bad,percent_bad"
   ]
  },
  {
   "cell_type": "code",
   "execution_count": 66,
   "id": "01384090",
   "metadata": {},
   "outputs": [
    {
     "name": "stdout",
     "output_type": "stream",
     "text": [
      "Номер задания 29\n"
     ]
    },
    {
     "data": {
      "image/png": "[encoded data removed]",
      "text/plain": [
       "<Figure size 432x288 with 1 Axes>"
      ]
     },
     "metadata": {},
     "output_type": "display_data"
    },
    {
     "data": {
      "text/plain": [
       "(0.3191489361702128, 0.6808510638297872)"
      ]
     },
     "execution_count": 66,
     "metadata": {},
     "output_type": "execute_result"
    }
   ],
   "source": [
    "c_score(data[:,6],4)"
   ]
  },
  {
   "cell_type": "code",
   "execution_count": 67,
   "id": "15594011",
   "metadata": {},
   "outputs": [],
   "source": [
    "def c_all_scores(data):\n",
    "    res_arr = []\n",
    "    for i in range(long):\n",
    "        scores = np.array([x.split(')')[i][0] for x in data])\n",
    "        percent_bad = ((scores =='-')|(scores =='0')).sum()/scores.shape[0]\n",
    "        res_arr.append((1-percent_bad,percent_bad))\n",
    "    return res_arr"
   ]
  },
  {
   "cell_type": "code",
   "execution_count": 68,
   "id": "8e620e28",
   "metadata": {},
   "outputs": [
    {
     "data": {
      "text/plain": [
       "[(0.6595744680851063, 0.3404255319148936),\n",
       " (0.475177304964539, 0.524822695035461),\n",
       " (0.5602836879432624, 0.4397163120567376),\n",
       " (0.3191489361702128, 0.6808510638297872)]"
      ]
     },
     "execution_count": 68,
     "metadata": {},
     "output_type": "execute_result"
    }
   ],
   "source": [
    "c_all_scores(data[:,6])"
   ]
  },
  {
   "cell_type": "markdown",
   "id": "ba38885b",
   "metadata": {},
   "source": [
    "4.\tСделайте анализ по двум школам:\n",
    "a.\tпо всем выполненным заданиям типа В\n",
    "b.\tпо заданиям типа С больше 50%\n",
    "c.\tпо среднему балу юношей и девушек\n"
   ]
  },
  {
   "cell_type": "code",
   "execution_count": 75,
   "id": "b2ddfb60",
   "metadata": {},
   "outputs": [
    {
     "data": {
      "text/plain": [
       "[(0.8333333333333334, 0.16666666666666666),\n",
       " (0.6666666666666667, 0.3333333333333333),\n",
       " (0.8333333333333334, 0.16666666666666666),\n",
       " (0.5, 0.5),\n",
       " (0.33333333333333337, 0.6666666666666666),\n",
       " (0.5, 0.5),\n",
       " (0.8333333333333334, 0.16666666666666666),\n",
       " (0.8333333333333334, 0.16666666666666666),\n",
       " (0.5, 0.5),\n",
       " (0.33333333333333337, 0.6666666666666666),\n",
       " (0.16666666666666663, 0.8333333333333334),\n",
       " (0.5, 0.5),\n",
       " (0.5, 0.5),\n",
       " (0.6666666666666667, 0.3333333333333333),\n",
       " (0.5, 0.5),\n",
       " (0.33333333333333337, 0.6666666666666666),\n",
       " (0.5, 0.5),\n",
       " (0.33333333333333337, 0.6666666666666666),\n",
       " (0.5, 0.5),\n",
       " (0.16666666666666663, 0.8333333333333334),\n",
       " (0.16666666666666663, 0.8333333333333334),\n",
       " (0.16666666666666663, 0.8333333333333334),\n",
       " (0.16666666666666663, 0.8333333333333334)]"
      ]
     },
     "execution_count": 75,
     "metadata": {},
     "output_type": "execute_result"
    }
   ],
   "source": [
    "data_sch_124 = data[data[:,1] == '147']\n",
    "b_all_scores(data_sch_124[:,5])"
   ]
  },
  {
   "cell_type": "code",
   "execution_count": 76,
   "id": "39c38445",
   "metadata": {},
   "outputs": [],
   "source": [
    "def c_more_than50(data):\n",
    "    res_arr = []\n",
    "    for i in range(long):\n",
    "        maximum = int(int(data[0].split(')')[i][-1])/2)\n",
    "        scores = np.array([int(x.split(')')[i][0]) for x in data])\n",
    "        percent_good = (scores > maximum).sum()/scores.shape[0]\n",
    "        res_arr.append((percent_good,1-percent_good))\n",
    "    return res_arr"
   ]
  },
  {
   "cell_type": "code",
   "execution_count": 77,
   "id": "f13902c7",
   "metadata": {},
   "outputs": [
    {
     "data": {
      "text/plain": [
       "array(['0(3)0(2)0(3)0(4)', '0(3)0(2)0(3)0(4)', '0(3)0(2)1(3)0(4)',\n",
       "       '2(3)0(2)0(3)0(4)', '3(3)1(2)0(3)0(4)', '3(3)2(2)2(3)4(4)'],\n",
       "      dtype='<U23')"
      ]
     },
     "execution_count": 77,
     "metadata": {},
     "output_type": "execute_result"
    }
   ],
   "source": [
    "data_sch_124[:,6]"
   ]
  },
  {
   "cell_type": "code",
   "execution_count": 78,
   "id": "401c8d47",
   "metadata": {},
   "outputs": [
    {
     "data": {
      "text/plain": [
       "[(0.5, 0.5),\n",
       " (0.16666666666666666, 0.8333333333333334),\n",
       " (0.16666666666666666, 0.8333333333333334),\n",
       " (0.16666666666666666, 0.8333333333333334)]"
      ]
     },
     "execution_count": 78,
     "metadata": {},
     "output_type": "execute_result"
    }
   ],
   "source": [
    "c_more_than50(data_sch_124[:,6])"
   ]
  },
  {
   "cell_type": "code",
   "execution_count": 79,
   "id": "7c8cb07f",
   "metadata": {},
   "outputs": [
    {
     "data": {
      "text/plain": [
       "<AxesSubplot:ylabel='Density'>"
      ]
     },
     "execution_count": 79,
     "metadata": {},
     "output_type": "execute_result"
    },
    {
     "data": {
      "image/png": "[encoded data removed]",
      "text/plain": [
       "<Figure size 432x288 with 1 Axes>"
      ]
     },
     "metadata": {
      "needs_background": "light"
     },
     "output_type": "display_data"
    }
   ],
   "source": [
    "scores_man = data_sch_124[:,9][data_sch_124[:,3]=='М'].astype(int)\n",
    "sns.kdeplot(scores_man.astype(int))"
   ]
  },
  {
   "cell_type": "code",
   "execution_count": 81,
   "id": "d1d4ef6e",
   "metadata": {},
   "outputs": [
    {
     "data": {
      "text/plain": [
       "<AxesSubplot:>"
      ]
     },
     "execution_count": 81,
     "metadata": {},
     "output_type": "execute_result"
    },
    {
     "data": {
      "image/png": "[encoded data removed]",
      "text/plain": [
       "<Figure size 432x288 with 1 Axes>"
      ]
     },
     "metadata": {
      "needs_background": "light"
     },
     "output_type": "display_data"
    }
   ],
   "source": [
    "scores_woman = data_sch_124[:,9][data_sch_124[:,3]=='Ж'].astype(int)\n",
    "sns.kdeplot(scores_woman.astype(int))"
   ]
  },
  {
   "cell_type": "code",
   "execution_count": 82,
   "id": "e17c91d0",
   "metadata": {},
   "outputs": [
    {
     "data": {
      "text/plain": [
       "0"
      ]
     },
     "execution_count": 82,
     "metadata": {},
     "output_type": "execute_result"
    }
   ],
   "source": [
    "(data_sch_124[:,3]=='Ж').sum()"
   ]
  },
  {
   "cell_type": "code",
   "execution_count": 84,
   "id": "01327118",
   "metadata": {},
   "outputs": [
    {
     "data": {
      "text/plain": [
       "[(0.8064516129032258, 0.1935483870967742),\n",
       " (0.6236559139784946, 0.3763440860215054),\n",
       " (0.7419354838709677, 0.25806451612903225),\n",
       " (0.7956989247311828, 0.20430107526881722),\n",
       " (0.7096774193548387, 0.2903225806451613),\n",
       " (0.6559139784946236, 0.34408602150537637),\n",
       " (0.935483870967742, 0.06451612903225806),\n",
       " (0.8817204301075269, 0.11827956989247312),\n",
       " (0.5806451612903225, 0.41935483870967744),\n",
       " (0.6129032258064516, 0.3870967741935484),\n",
       " (0.4731182795698925, 0.5268817204301075),\n",
       " (0.5591397849462365, 0.44086021505376344),\n",
       " (0.6129032258064516, 0.3870967741935484),\n",
       " (0.8172043010752688, 0.1827956989247312),\n",
       " (0.7311827956989247, 0.26881720430107525),\n",
       " (0.6559139784946236, 0.34408602150537637),\n",
       " (0.7311827956989247, 0.26881720430107525),\n",
       " (0.3548387096774194, 0.6451612903225806),\n",
       " (0.7311827956989247, 0.26881720430107525),\n",
       " (0.13978494623655913, 0.8602150537634409),\n",
       " (0.3870967741935484, 0.6129032258064516),\n",
       " (0.4086021505376344, 0.5913978494623656),\n",
       " (0.17204301075268813, 0.8279569892473119)]"
      ]
     },
     "execution_count": 84,
     "metadata": {},
     "output_type": "execute_result"
    }
   ],
   "source": [
    "data_sch_136 = data[data[:,1] == '148']\n",
    "b_all_scores(data_sch_136[:,5])"
   ]
  },
  {
   "cell_type": "code",
   "execution_count": 85,
   "id": "1b5b2485",
   "metadata": {},
   "outputs": [
    {
     "data": {
      "text/plain": [
       "[(0.6666666666666666, 0.33333333333333337),\n",
       " (0.3978494623655914, 0.6021505376344086),\n",
       " (0.43010752688172044, 0.5698924731182795),\n",
       " (0.08602150537634409, 0.9139784946236559)]"
      ]
     },
     "execution_count": 85,
     "metadata": {},
     "output_type": "execute_result"
    }
   ],
   "source": [
    "c_more_than50(data_sch_136[:,6])"
   ]
  },
  {
   "cell_type": "code",
   "execution_count": 86,
   "id": "2e741a1c",
   "metadata": {},
   "outputs": [
    {
     "data": {
      "text/plain": [
       "<AxesSubplot:ylabel='Density'>"
      ]
     },
     "execution_count": 86,
     "metadata": {},
     "output_type": "execute_result"
    },
    {
     "data": {
      "image/png": "[encoded data removed]",
      "text/plain": [
       "<Figure size 432x288 with 1 Axes>"
      ]
     },
     "metadata": {
      "needs_background": "light"
     },
     "output_type": "display_data"
    }
   ],
   "source": [
    "scores_man = data_sch_136[:,9][data_sch_136[:,3]=='М'].astype(int)\n",
    "sns.kdeplot(scores_man.astype(int))"
   ]
  },
  {
   "cell_type": "code",
   "execution_count": 87,
   "id": "f61aab44",
   "metadata": {},
   "outputs": [
    {
     "data": {
      "text/plain": [
       "<AxesSubplot:ylabel='Density'>"
      ]
     },
     "execution_count": 87,
     "metadata": {},
     "output_type": "execute_result"
    },
    {
     "data": {
      "image/png": "[encoded data removed]",
      "text/plain": [
       "<Figure size 432x288 with 1 Axes>"
      ]
     },
     "metadata": {
      "needs_background": "light"
     },
     "output_type": "display_data"
    }
   ],
   "source": [
    "scores_woman = data_sch_136[:,9][data_sch_136[:,3]=='Ж'].astype(int)\n",
    "sns.kdeplot(scores_woman.astype(int))"
   ]
  }
 ],
 "metadata": {
  "kernelspec": {
   "display_name": "Python 3",
   "language": "python",
   "name": "python3"
  },
  "language_info": {
   "codemirror_mode": {
    "name": "ipython",
    "version": 3
   },
   "file_extension": ".py",
   "mimetype": "text/x-python",
   "name": "python",
   "nbconvert_exporter": "python",
   "pygments_lexer": "ipython3",
   "version": "3.8.8"
  }
 },
 "nbformat": 4,
 "nbformat_minor": 5
}
