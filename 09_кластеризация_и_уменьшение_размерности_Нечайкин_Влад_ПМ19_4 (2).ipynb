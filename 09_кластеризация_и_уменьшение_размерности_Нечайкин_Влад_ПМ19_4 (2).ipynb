{
 "cells": [
  {
   "cell_type": "markdown",
   "id": "ff8b7684",
   "metadata": {},
   "source": [
    "# Кластеризация и уменьшение размерности"
   ]
  },
  {
   "cell_type": "markdown",
   "id": "3ea471d6",
   "metadata": {},
   "source": [
    "Подготовлено на основе [материалов с сайта Коротеева М.В.](https://koroteev.site/ml/)"
   ]
  },
  {
   "cell_type": "markdown",
   "id": "dd0125db",
   "metadata": {},
   "source": [
    "## Кластеризация"
   ]
  },
  {
   "cell_type": "code",
   "execution_count": 85,
   "id": "14bfbbc8",
   "metadata": {},
   "outputs": [],
   "source": [
    "import pandas as pd\n",
    "import matplotlib.pyplot as plt\n",
    "import pandas as pd\n",
    "import numpy as np\n",
    "import seaborn as sns\n",
    "from collections import Counter\n",
    "import matplotlib.pyplot as plt\n",
    "from sklearn.svm import SVC\n",
    "from sklearn.neighbors import KNeighborsClassifier\n",
    "from sklearn.neural_network import MLPClassifier\n",
    "from catboost import CatBoostClassifier\n",
    "from sklearn.linear_model import LogisticRegression\n",
    "from sklearn.model_selection import train_test_split\n",
    "from sklearn.pipeline import Pipeline\n",
    "from sklearn.preprocessing import StandardScaler\n",
    "from sklearn.datasets import load_digits\n",
    "from sklearn.model_selection import learning_curve\n",
    "from sklearn.model_selection import ShuffleSplit\n",
    "from sklearn.metrics import precision_score,recall_score,accuracy_score,fbeta_score\n",
    "from sklearn.metrics import confusion_matrix, ConfusionMatrixDisplay\n",
    "from sklearn.datasets import fetch_20newsgroups\n",
    "from sklearn.feature_extraction.text import TfidfVectorizer\n",
    "from sklearn.naive_bayes import GaussianNB\n",
    "from sklearn.base import TransformerMixin\n",
    "import warnings\n",
    "import time\n",
    "from warnings import simplefilter\n",
    "from sklearn.exceptions import ConvergenceWarning\n",
    "simplefilter(\"ignore\", category=ConvergenceWarning)"
   ]
  },
  {
   "cell_type": "markdown",
   "id": "0a034ca4",
   "metadata": {},
   "source": [
    "1.1 Загрузите [датасет](https://github.com/koroteevmv/ML_course/blob/main/ML6.1_clustering/data/Mall_Customers.csv). Приведите описательную статистику. Преобразуйте все нечисловые характеристики в числовые. Постройте графическую интерпретацию значений датасета. В качестве x-координаты используйте Annual Income, в качестве y-координаты Spending Score. "
   ]
  },
  {
   "cell_type": "code",
   "execution_count": 8,
   "id": "9681e993",
   "metadata": {},
   "outputs": [
    {
     "data": {
      "text/html": [
       "<div>\n",
       "<style scoped>\n",
       "    .dataframe tbody tr th:only-of-type {\n",
       "        vertical-align: middle;\n",
       "    }\n",
       "\n",
       "    .dataframe tbody tr th {\n",
       "        vertical-align: top;\n",
       "    }\n",
       "\n",
       "    .dataframe thead th {\n",
       "        text-align: right;\n",
       "    }\n",
       "</style>\n",
       "<table border=\"1\" class=\"dataframe\">\n",
       "  <thead>\n",
       "    <tr style=\"text-align: right;\">\n",
       "      <th></th>\n",
       "      <th>CustomerID</th>\n",
       "      <th>Genre</th>\n",
       "      <th>Age</th>\n",
       "      <th>Annual Income (k$)</th>\n",
       "      <th>Spending Score (1-100)</th>\n",
       "    </tr>\n",
       "  </thead>\n",
       "  <tbody>\n",
       "    <tr>\n",
       "      <th>0</th>\n",
       "      <td>1</td>\n",
       "      <td>Male</td>\n",
       "      <td>19</td>\n",
       "      <td>15</td>\n",
       "      <td>39</td>\n",
       "    </tr>\n",
       "    <tr>\n",
       "      <th>1</th>\n",
       "      <td>2</td>\n",
       "      <td>Male</td>\n",
       "      <td>21</td>\n",
       "      <td>15</td>\n",
       "      <td>81</td>\n",
       "    </tr>\n",
       "    <tr>\n",
       "      <th>2</th>\n",
       "      <td>3</td>\n",
       "      <td>Female</td>\n",
       "      <td>20</td>\n",
       "      <td>16</td>\n",
       "      <td>6</td>\n",
       "    </tr>\n",
       "    <tr>\n",
       "      <th>3</th>\n",
       "      <td>4</td>\n",
       "      <td>Female</td>\n",
       "      <td>23</td>\n",
       "      <td>16</td>\n",
       "      <td>77</td>\n",
       "    </tr>\n",
       "    <tr>\n",
       "      <th>4</th>\n",
       "      <td>5</td>\n",
       "      <td>Female</td>\n",
       "      <td>31</td>\n",
       "      <td>17</td>\n",
       "      <td>40</td>\n",
       "    </tr>\n",
       "    <tr>\n",
       "      <th>...</th>\n",
       "      <td>...</td>\n",
       "      <td>...</td>\n",
       "      <td>...</td>\n",
       "      <td>...</td>\n",
       "      <td>...</td>\n",
       "    </tr>\n",
       "    <tr>\n",
       "      <th>195</th>\n",
       "      <td>196</td>\n",
       "      <td>Female</td>\n",
       "      <td>35</td>\n",
       "      <td>120</td>\n",
       "      <td>79</td>\n",
       "    </tr>\n",
       "    <tr>\n",
       "      <th>196</th>\n",
       "      <td>197</td>\n",
       "      <td>Female</td>\n",
       "      <td>45</td>\n",
       "      <td>126</td>\n",
       "      <td>28</td>\n",
       "    </tr>\n",
       "    <tr>\n",
       "      <th>197</th>\n",
       "      <td>198</td>\n",
       "      <td>Male</td>\n",
       "      <td>32</td>\n",
       "      <td>126</td>\n",
       "      <td>74</td>\n",
       "    </tr>\n",
       "    <tr>\n",
       "      <th>198</th>\n",
       "      <td>199</td>\n",
       "      <td>Male</td>\n",
       "      <td>32</td>\n",
       "      <td>137</td>\n",
       "      <td>18</td>\n",
       "    </tr>\n",
       "    <tr>\n",
       "      <th>199</th>\n",
       "      <td>200</td>\n",
       "      <td>Male</td>\n",
       "      <td>30</td>\n",
       "      <td>137</td>\n",
       "      <td>83</td>\n",
       "    </tr>\n",
       "  </tbody>\n",
       "</table>\n",
       "<p>200 rows × 5 columns</p>\n",
       "</div>"
      ],
      "text/plain": [
       "     CustomerID   Genre  Age  Annual Income (k$)  Spending Score (1-100)\n",
       "0             1    Male   19                  15                      39\n",
       "1             2    Male   21                  15                      81\n",
       "2             3  Female   20                  16                       6\n",
       "3             4  Female   23                  16                      77\n",
       "4             5  Female   31                  17                      40\n",
       "..          ...     ...  ...                 ...                     ...\n",
       "195         196  Female   35                 120                      79\n",
       "196         197  Female   45                 126                      28\n",
       "197         198    Male   32                 126                      74\n",
       "198         199    Male   32                 137                      18\n",
       "199         200    Male   30                 137                      83\n",
       "\n",
       "[200 rows x 5 columns]"
      ]
     },
     "execution_count": 8,
     "metadata": {},
     "output_type": "execute_result"
    }
   ],
   "source": [
    "df = pd.read_csv('Mall_Customers.csv');df"
   ]
  },
  {
   "cell_type": "code",
   "execution_count": 13,
   "id": "748509fa",
   "metadata": {},
   "outputs": [],
   "source": [
    "from sklearn.preprocessing import LabelEncoder\n",
    "le = LabelEncoder()\n",
    "df['Genre'] = le.fit_transform(df['Genre'])"
   ]
  },
  {
   "cell_type": "code",
   "execution_count": 12,
   "id": "58cc7136",
   "metadata": {},
   "outputs": [
    {
     "data": {
      "text/plain": [
       "<AxesSubplot:xlabel='Annual Income (k$)', ylabel='Spending Score (1-100)'>"
      ]
     },
     "execution_count": 12,
     "metadata": {},
     "output_type": "execute_result"
    },
    {
     "data": {
      "image/png": "[encoded data removed]",
      "text/plain": [
       "<Figure size 432x288 with 1 Axes>"
      ]
     },
     "metadata": {
      "needs_background": "light"
     },
     "output_type": "display_data"
    }
   ],
   "source": [
    "df.plot.scatter(x = 'Annual Income (k$)', y = 'Spending Score (1-100)')"
   ]
  },
  {
   "cell_type": "markdown",
   "id": "cba70bd1",
   "metadata": {},
   "source": [
    "1.2 Определите наилучшее число кластеров на основе созданной визуализации. Обучите модель К-средних и предскажите кластер для каждого объекта из датасета."
   ]
  },
  {
   "cell_type": "markdown",
   "id": "39f9d3fc",
   "metadata": {},
   "source": [
    "k = 5"
   ]
  },
  {
   "cell_type": "markdown",
   "id": "091841e2",
   "metadata": {},
   "source": [
    "1.3 Постройте графическую интерпретацию с центрами кластеров, в качестве x-координаты используйте Возраст, в качестве y-координаты Spending Score. Раскрасьте точки в соответствии с номером из кластера."
   ]
  },
  {
   "cell_type": "code",
   "execution_count": 22,
   "id": "8b646b46",
   "metadata": {},
   "outputs": [],
   "source": [
    "from sklearn.cluster import KMeans\n",
    "clusterNum = 5\n",
    "k_means = KMeans(init = \"k-means++\", n_clusters = clusterNum, n_init = 20)\n",
    "k_means.fit(df)\n",
    "labels = k_means.labels_"
   ]
  },
  {
   "cell_type": "code",
   "execution_count": 23,
   "id": "027424c6",
   "metadata": {},
   "outputs": [
    {
     "data": {
      "text/plain": [
       "<AxesSubplot:xlabel='Age', ylabel='Spending Score (1-100)'>"
      ]
     },
     "execution_count": 23,
     "metadata": {},
     "output_type": "execute_result"
    },
    {
     "data": {
      "image/png": "[encoded data removed]",
      "text/plain": [
       "<Figure size 432x288 with 1 Axes>"
      ]
     },
     "metadata": {
      "needs_background": "light"
     },
     "output_type": "display_data"
    }
   ],
   "source": [
    "df.plot.scatter(x = 'Age', y = 'Spending Score (1-100)',c = labels )"
   ]
  },
  {
   "cell_type": "markdown",
   "id": "ed4e1900",
   "metadata": {},
   "source": [
    "1.4 Определите наилучшее число кластеров с помощью графической зависимости числа кластеров от суммы квадратов расстояний значений датасета до центра кластера"
   ]
  },
  {
   "cell_type": "code",
   "execution_count": 27,
   "id": "40771a69",
   "metadata": {},
   "outputs": [
    {
     "name": "stderr",
     "output_type": "stream",
     "text": [
      "C:\\Users\\Vladc\\anaconda3\\lib\\site-packages\\sklearn\\cluster\\_kmeans.py:881: UserWarning: KMeans is known to have a memory leak on Windows with MKL, when there are less chunks than available threads. You can avoid it by setting the environment variable OMP_NUM_THREADS=1.\n",
      "  warnings.warn(\n"
     ]
    },
    {
     "data": {
      "image/png": "[encoded data removed]",
      "text/plain": [
       "<Figure size 432x288 with 1 Axes>"
      ]
     },
     "metadata": {
      "needs_background": "light"
     },
     "output_type": "display_data"
    }
   ],
   "source": [
    "import numpy as np\n",
    "inertia = []\n",
    "for k in range(1, 10):\n",
    "    kmeans = KMeans(n_clusters=k, random_state=1).fit(df)\n",
    "    inertia.append(np.sqrt(kmeans.inertia_))\n",
    "\n",
    "plt.plot(range(1, 10), inertia, marker='s');\n",
    "plt.xlabel('$k$')\n",
    "plt.ylabel('$J(C_k)$');"
   ]
  },
  {
   "cell_type": "code",
   "execution_count": null,
   "id": "5e43d422",
   "metadata": {},
   "outputs": [],
   "source": [
    "# судя по визуализации - оптимальное число кластера 2 либо 3,\n",
    "# тк дальше уменьшение инерции происходит с меньшей скорость"
   ]
  },
  {
   "cell_type": "markdown",
   "id": "c571388a",
   "metadata": {},
   "source": [
    "1.5 Используйте другие алгоритмы кластеризации, реализованные в `sklearn`. Визуализируйте результат."
   ]
  },
  {
   "cell_type": "code",
   "execution_count": 46,
   "id": "f726da73",
   "metadata": {},
   "outputs": [],
   "source": [
    "from sklearn.cluster import DBSCAN\n",
    "model = DBSCAN(eps=0.5, min_samples=5, metric='euclidean', metric_params=None, algorithm='auto', leaf_size=30, p=None, n_jobs=None)\n",
    "labels = model.fit_predict(df)"
   ]
  },
  {
   "cell_type": "code",
   "execution_count": 47,
   "id": "fd5335f8",
   "metadata": {},
   "outputs": [
    {
     "data": {
      "text/plain": [
       "array([-1, -1, -1, -1, -1, -1, -1, -1, -1, -1, -1, -1, -1, -1, -1, -1, -1,\n",
       "       -1, -1, -1, -1, -1, -1, -1, -1, -1, -1, -1, -1, -1, -1, -1, -1, -1,\n",
       "       -1, -1, -1, -1, -1, -1, -1, -1, -1, -1, -1, -1, -1, -1, -1, -1, -1,\n",
       "       -1, -1, -1, -1, -1, -1, -1, -1, -1, -1, -1, -1, -1, -1, -1, -1, -1,\n",
       "       -1, -1, -1, -1, -1, -1, -1, -1, -1, -1, -1, -1, -1, -1, -1, -1, -1,\n",
       "       -1, -1, -1, -1, -1, -1, -1, -1, -1, -1, -1, -1, -1, -1, -1, -1, -1,\n",
       "       -1, -1, -1, -1, -1, -1, -1, -1, -1, -1, -1, -1, -1, -1, -1, -1, -1,\n",
       "       -1, -1, -1, -1, -1, -1, -1, -1, -1, -1, -1, -1, -1, -1, -1, -1, -1,\n",
       "       -1, -1, -1, -1, -1, -1, -1, -1, -1, -1, -1, -1, -1, -1, -1, -1, -1,\n",
       "       -1, -1, -1, -1, -1, -1, -1, -1, -1, -1, -1, -1, -1, -1, -1, -1, -1,\n",
       "       -1, -1, -1, -1, -1, -1, -1, -1, -1, -1, -1, -1, -1, -1, -1, -1, -1,\n",
       "       -1, -1, -1, -1, -1, -1, -1, -1, -1, -1, -1, -1, -1], dtype=int64)"
      ]
     },
     "execution_count": 47,
     "metadata": {},
     "output_type": "execute_result"
    }
   ],
   "source": [
    "labels"
   ]
  },
  {
   "cell_type": "code",
   "execution_count": 42,
   "id": "488c1129",
   "metadata": {},
   "outputs": [
    {
     "data": {
      "text/plain": [
       "<AxesSubplot:xlabel='Age', ylabel='Spending Score (1-100)'>"
      ]
     },
     "execution_count": 42,
     "metadata": {},
     "output_type": "execute_result"
    },
    {
     "data": {
      "image/png": "[encoded data removed]",
      "text/plain": [
       "<Figure size 432x288 with 1 Axes>"
      ]
     },
     "metadata": {
      "needs_background": "light"
     },
     "output_type": "display_data"
    }
   ],
   "source": [
    "df.plot.scatter(x = 'Age', y = 'Spending Score (1-100)',c = labels )"
   ]
  },
  {
   "cell_type": "code",
   "execution_count": 57,
   "id": "e6dd4bc1",
   "metadata": {},
   "outputs": [],
   "source": [
    "from sklearn.cluster import AgglomerativeClustering\n",
    "model = AgglomerativeClustering(n_clusters=3)\n",
    "model.fit(df)\n",
    "labels = model.labels_"
   ]
  },
  {
   "cell_type": "code",
   "execution_count": 58,
   "id": "c9df10d4",
   "metadata": {},
   "outputs": [
    {
     "data": {
      "text/plain": [
       "array([1, 1, 1, 1, 1, 1, 1, 1, 1, 1, 1, 1, 1, 1, 1, 1, 1, 1, 1, 1, 1, 1,\n",
       "       1, 1, 1, 1, 1, 1, 1, 1, 1, 1, 1, 1, 1, 1, 1, 1, 1, 1, 1, 1, 1, 1,\n",
       "       1, 1, 1, 1, 1, 1, 1, 1, 1, 1, 1, 1, 1, 1, 1, 1, 1, 2, 1, 1, 1, 2,\n",
       "       2, 1, 2, 2, 1, 2, 1, 1, 1, 2, 2, 2, 2, 2, 1, 2, 1, 2, 2, 2, 2, 2,\n",
       "       2, 2, 2, 2, 2, 2, 2, 2, 2, 2, 2, 2, 2, 2, 2, 2, 2, 2, 2, 2, 2, 2,\n",
       "       2, 2, 2, 2, 2, 2, 2, 2, 2, 2, 2, 2, 2, 0, 0, 0, 2, 0, 0, 0, 0, 0,\n",
       "       0, 0, 0, 0, 0, 0, 0, 0, 0, 0, 0, 0, 0, 0, 0, 0, 0, 0, 0, 0, 0, 0,\n",
       "       0, 0, 0, 0, 0, 0, 0, 0, 0, 0, 0, 0, 0, 0, 0, 0, 0, 0, 0, 0, 0, 0,\n",
       "       0, 0, 0, 0, 0, 0, 0, 0, 0, 0, 0, 0, 0, 0, 0, 0, 0, 0, 0, 0, 0, 0,\n",
       "       0, 0], dtype=int64)"
      ]
     },
     "execution_count": 58,
     "metadata": {},
     "output_type": "execute_result"
    }
   ],
   "source": [
    "labels"
   ]
  },
  {
   "cell_type": "code",
   "execution_count": 59,
   "id": "084a0da4",
   "metadata": {},
   "outputs": [
    {
     "data": {
      "text/plain": [
       "<AxesSubplot:xlabel='Age', ylabel='Spending Score (1-100)'>"
      ]
     },
     "execution_count": 59,
     "metadata": {},
     "output_type": "execute_result"
    },
    {
     "data": {
      "image/png": "[encoded data removed]",
      "text/plain": [
       "<Figure size 432x288 with 1 Axes>"
      ]
     },
     "metadata": {
      "needs_background": "light"
     },
     "output_type": "display_data"
    }
   ],
   "source": [
    "df.plot.scatter(x = 'Age', y = 'Spending Score (1-100)',c = labels )"
   ]
  },
  {
   "cell_type": "markdown",
   "id": "87dd5e35",
   "metadata": {},
   "source": [
    "## Уменьшение размерности"
   ]
  },
  {
   "cell_type": "markdown",
   "id": "a485281b",
   "metadata": {},
   "source": [
    "2.1 Загрузите [датасет](https://raw.githubusercontent.com/k8xu/credit-risk-classification/master/credit_data.csv). Приведите описательную статистику. Преобразуйте все нечисловые характеристики в числовые. Заполните пропуски. Разделите данные на тестовую и обучающую выборки."
   ]
  },
  {
   "cell_type": "code",
   "execution_count": 90,
   "id": "e39db4c6",
   "metadata": {},
   "outputs": [
    {
     "data": {
      "text/html": [
       "<div>\n",
       "<style scoped>\n",
       "    .dataframe tbody tr th:only-of-type {\n",
       "        vertical-align: middle;\n",
       "    }\n",
       "\n",
       "    .dataframe tbody tr th {\n",
       "        vertical-align: top;\n",
       "    }\n",
       "\n",
       "    .dataframe thead th {\n",
       "        text-align: right;\n",
       "    }\n",
       "</style>\n",
       "<table border=\"1\" class=\"dataframe\">\n",
       "  <thead>\n",
       "    <tr style=\"text-align: right;\">\n",
       "      <th></th>\n",
       "      <th>Age</th>\n",
       "      <th>Sex</th>\n",
       "      <th>Job</th>\n",
       "      <th>Housing</th>\n",
       "      <th>Saving accounts</th>\n",
       "      <th>Checking account</th>\n",
       "      <th>Credit amount</th>\n",
       "      <th>Duration</th>\n",
       "      <th>Purpose</th>\n",
       "      <th>Risk</th>\n",
       "    </tr>\n",
       "  </thead>\n",
       "  <tbody>\n",
       "    <tr>\n",
       "      <th>0</th>\n",
       "      <td>67</td>\n",
       "      <td>male</td>\n",
       "      <td>2</td>\n",
       "      <td>own</td>\n",
       "      <td>NaN</td>\n",
       "      <td>little</td>\n",
       "      <td>1169</td>\n",
       "      <td>6</td>\n",
       "      <td>radio/TV</td>\n",
       "      <td>good</td>\n",
       "    </tr>\n",
       "    <tr>\n",
       "      <th>1</th>\n",
       "      <td>22</td>\n",
       "      <td>female</td>\n",
       "      <td>2</td>\n",
       "      <td>own</td>\n",
       "      <td>little</td>\n",
       "      <td>moderate</td>\n",
       "      <td>5951</td>\n",
       "      <td>48</td>\n",
       "      <td>radio/TV</td>\n",
       "      <td>bad</td>\n",
       "    </tr>\n",
       "    <tr>\n",
       "      <th>2</th>\n",
       "      <td>49</td>\n",
       "      <td>male</td>\n",
       "      <td>1</td>\n",
       "      <td>own</td>\n",
       "      <td>little</td>\n",
       "      <td>NaN</td>\n",
       "      <td>2096</td>\n",
       "      <td>12</td>\n",
       "      <td>education</td>\n",
       "      <td>good</td>\n",
       "    </tr>\n",
       "    <tr>\n",
       "      <th>3</th>\n",
       "      <td>45</td>\n",
       "      <td>male</td>\n",
       "      <td>2</td>\n",
       "      <td>free</td>\n",
       "      <td>little</td>\n",
       "      <td>little</td>\n",
       "      <td>7882</td>\n",
       "      <td>42</td>\n",
       "      <td>furniture/equipment</td>\n",
       "      <td>good</td>\n",
       "    </tr>\n",
       "    <tr>\n",
       "      <th>4</th>\n",
       "      <td>53</td>\n",
       "      <td>male</td>\n",
       "      <td>2</td>\n",
       "      <td>free</td>\n",
       "      <td>little</td>\n",
       "      <td>little</td>\n",
       "      <td>4870</td>\n",
       "      <td>24</td>\n",
       "      <td>car</td>\n",
       "      <td>bad</td>\n",
       "    </tr>\n",
       "  </tbody>\n",
       "</table>\n",
       "</div>"
      ],
      "text/plain": [
       "   Age     Sex  Job Housing Saving accounts Checking account  Credit amount  \\\n",
       "0   67    male    2     own             NaN           little           1169   \n",
       "1   22  female    2     own          little         moderate           5951   \n",
       "2   49    male    1     own          little              NaN           2096   \n",
       "3   45    male    2    free          little           little           7882   \n",
       "4   53    male    2    free          little           little           4870   \n",
       "\n",
       "   Duration              Purpose  Risk  \n",
       "0         6             radio/TV  good  \n",
       "1        48             radio/TV   bad  \n",
       "2        12            education  good  \n",
       "3        42  furniture/equipment  good  \n",
       "4        24                  car   bad  "
      ]
     },
     "execution_count": 90,
     "metadata": {},
     "output_type": "execute_result"
    }
   ],
   "source": [
    "df = pd.read_csv('https://raw.githubusercontent.com/k8xu/credit-risk-classification/master/credit_data.csv',\\\n",
    "                 index_col = 'Unnamed: 0')\n",
    "df.head()"
   ]
  },
  {
   "cell_type": "code",
   "execution_count": 92,
   "id": "6be77308",
   "metadata": {},
   "outputs": [
    {
     "data": {
      "text/plain": [
       "Index(['Age', 'Sex', 'Job', 'Housing', 'Saving accounts', 'Checking account',\n",
       "       'Credit amount', 'Duration', 'Purpose', 'Risk'],\n",
       "      dtype='object')"
      ]
     },
     "execution_count": 92,
     "metadata": {},
     "output_type": "execute_result"
    }
   ],
   "source": [
    "df.columns"
   ]
  },
  {
   "cell_type": "code",
   "execution_count": 93,
   "id": "4eed34c6",
   "metadata": {},
   "outputs": [],
   "source": [
    "from sklearn.preprocessing import LabelEncoder\n",
    "for column in ['Sex','Job','Housing','Saving accounts','Checking account','Purpose','Risk']:\n",
    "    le = LabelEncoder()\n",
    "    df[column] = le.fit_transform(df[column])"
   ]
  },
  {
   "cell_type": "code",
   "execution_count": 94,
   "id": "8fb703b9",
   "metadata": {},
   "outputs": [
    {
     "data": {
      "text/html": [
       "<div>\n",
       "<style scoped>\n",
       "    .dataframe tbody tr th:only-of-type {\n",
       "        vertical-align: middle;\n",
       "    }\n",
       "\n",
       "    .dataframe tbody tr th {\n",
       "        vertical-align: top;\n",
       "    }\n",
       "\n",
       "    .dataframe thead th {\n",
       "        text-align: right;\n",
       "    }\n",
       "</style>\n",
       "<table border=\"1\" class=\"dataframe\">\n",
       "  <thead>\n",
       "    <tr style=\"text-align: right;\">\n",
       "      <th></th>\n",
       "      <th>Age</th>\n",
       "      <th>Sex</th>\n",
       "      <th>Job</th>\n",
       "      <th>Housing</th>\n",
       "      <th>Saving accounts</th>\n",
       "      <th>Checking account</th>\n",
       "      <th>Credit amount</th>\n",
       "      <th>Duration</th>\n",
       "      <th>Purpose</th>\n",
       "      <th>Risk</th>\n",
       "    </tr>\n",
       "  </thead>\n",
       "  <tbody>\n",
       "    <tr>\n",
       "      <th>0</th>\n",
       "      <td>67</td>\n",
       "      <td>1</td>\n",
       "      <td>2</td>\n",
       "      <td>1</td>\n",
       "      <td>4</td>\n",
       "      <td>0</td>\n",
       "      <td>1169</td>\n",
       "      <td>6</td>\n",
       "      <td>5</td>\n",
       "      <td>1</td>\n",
       "    </tr>\n",
       "    <tr>\n",
       "      <th>1</th>\n",
       "      <td>22</td>\n",
       "      <td>0</td>\n",
       "      <td>2</td>\n",
       "      <td>1</td>\n",
       "      <td>0</td>\n",
       "      <td>1</td>\n",
       "      <td>5951</td>\n",
       "      <td>48</td>\n",
       "      <td>5</td>\n",
       "      <td>0</td>\n",
       "    </tr>\n",
       "    <tr>\n",
       "      <th>2</th>\n",
       "      <td>49</td>\n",
       "      <td>1</td>\n",
       "      <td>1</td>\n",
       "      <td>1</td>\n",
       "      <td>0</td>\n",
       "      <td>3</td>\n",
       "      <td>2096</td>\n",
       "      <td>12</td>\n",
       "      <td>3</td>\n",
       "      <td>1</td>\n",
       "    </tr>\n",
       "    <tr>\n",
       "      <th>3</th>\n",
       "      <td>45</td>\n",
       "      <td>1</td>\n",
       "      <td>2</td>\n",
       "      <td>0</td>\n",
       "      <td>0</td>\n",
       "      <td>0</td>\n",
       "      <td>7882</td>\n",
       "      <td>42</td>\n",
       "      <td>4</td>\n",
       "      <td>1</td>\n",
       "    </tr>\n",
       "    <tr>\n",
       "      <th>4</th>\n",
       "      <td>53</td>\n",
       "      <td>1</td>\n",
       "      <td>2</td>\n",
       "      <td>0</td>\n",
       "      <td>0</td>\n",
       "      <td>0</td>\n",
       "      <td>4870</td>\n",
       "      <td>24</td>\n",
       "      <td>1</td>\n",
       "      <td>0</td>\n",
       "    </tr>\n",
       "    <tr>\n",
       "      <th>...</th>\n",
       "      <td>...</td>\n",
       "      <td>...</td>\n",
       "      <td>...</td>\n",
       "      <td>...</td>\n",
       "      <td>...</td>\n",
       "      <td>...</td>\n",
       "      <td>...</td>\n",
       "      <td>...</td>\n",
       "      <td>...</td>\n",
       "      <td>...</td>\n",
       "    </tr>\n",
       "    <tr>\n",
       "      <th>995</th>\n",
       "      <td>31</td>\n",
       "      <td>0</td>\n",
       "      <td>1</td>\n",
       "      <td>1</td>\n",
       "      <td>0</td>\n",
       "      <td>3</td>\n",
       "      <td>1736</td>\n",
       "      <td>12</td>\n",
       "      <td>4</td>\n",
       "      <td>1</td>\n",
       "    </tr>\n",
       "    <tr>\n",
       "      <th>996</th>\n",
       "      <td>40</td>\n",
       "      <td>1</td>\n",
       "      <td>3</td>\n",
       "      <td>1</td>\n",
       "      <td>0</td>\n",
       "      <td>0</td>\n",
       "      <td>3857</td>\n",
       "      <td>30</td>\n",
       "      <td>1</td>\n",
       "      <td>1</td>\n",
       "    </tr>\n",
       "    <tr>\n",
       "      <th>997</th>\n",
       "      <td>38</td>\n",
       "      <td>1</td>\n",
       "      <td>2</td>\n",
       "      <td>1</td>\n",
       "      <td>0</td>\n",
       "      <td>3</td>\n",
       "      <td>804</td>\n",
       "      <td>12</td>\n",
       "      <td>5</td>\n",
       "      <td>1</td>\n",
       "    </tr>\n",
       "    <tr>\n",
       "      <th>998</th>\n",
       "      <td>23</td>\n",
       "      <td>1</td>\n",
       "      <td>2</td>\n",
       "      <td>0</td>\n",
       "      <td>0</td>\n",
       "      <td>0</td>\n",
       "      <td>1845</td>\n",
       "      <td>45</td>\n",
       "      <td>5</td>\n",
       "      <td>0</td>\n",
       "    </tr>\n",
       "    <tr>\n",
       "      <th>999</th>\n",
       "      <td>27</td>\n",
       "      <td>1</td>\n",
       "      <td>2</td>\n",
       "      <td>1</td>\n",
       "      <td>1</td>\n",
       "      <td>1</td>\n",
       "      <td>4576</td>\n",
       "      <td>45</td>\n",
       "      <td>1</td>\n",
       "      <td>1</td>\n",
       "    </tr>\n",
       "  </tbody>\n",
       "</table>\n",
       "<p>1000 rows × 10 columns</p>\n",
       "</div>"
      ],
      "text/plain": [
       "     Age  Sex  Job  Housing  Saving accounts  Checking account  Credit amount  \\\n",
       "0     67    1    2        1                4                 0           1169   \n",
       "1     22    0    2        1                0                 1           5951   \n",
       "2     49    1    1        1                0                 3           2096   \n",
       "3     45    1    2        0                0                 0           7882   \n",
       "4     53    1    2        0                0                 0           4870   \n",
       "..   ...  ...  ...      ...              ...               ...            ...   \n",
       "995   31    0    1        1                0                 3           1736   \n",
       "996   40    1    3        1                0                 0           3857   \n",
       "997   38    1    2        1                0                 3            804   \n",
       "998   23    1    2        0                0                 0           1845   \n",
       "999   27    1    2        1                1                 1           4576   \n",
       "\n",
       "     Duration  Purpose  Risk  \n",
       "0           6        5     1  \n",
       "1          48        5     0  \n",
       "2          12        3     1  \n",
       "3          42        4     1  \n",
       "4          24        1     0  \n",
       "..        ...      ...   ...  \n",
       "995        12        4     1  \n",
       "996        30        1     1  \n",
       "997        12        5     1  \n",
       "998        45        5     0  \n",
       "999        45        1     1  \n",
       "\n",
       "[1000 rows x 10 columns]"
      ]
     },
     "execution_count": 94,
     "metadata": {},
     "output_type": "execute_result"
    }
   ],
   "source": [
    "df"
   ]
  },
  {
   "cell_type": "markdown",
   "id": "7add3738",
   "metadata": {},
   "source": [
    "2.2 Обучите модель Random Forest для предсказания переменной `Risk`. Оцените полученную модель с помощью метрик."
   ]
  },
  {
   "cell_type": "code",
   "execution_count": 95,
   "id": "f15464b7",
   "metadata": {},
   "outputs": [],
   "source": [
    "from sklearn.ensemble import RandomForestClassifier\n",
    "from sklearn.model_selection import train_test_split"
   ]
  },
  {
   "cell_type": "code",
   "execution_count": 96,
   "id": "ed10cd09",
   "metadata": {},
   "outputs": [],
   "source": [
    "y = df['Risk']\n",
    "X = df.drop('Risk', axis = 1)\n",
    "X_train, X_test, y_train, y_test = train_test_split(X, y, test_size=0.2, random_state=1)"
   ]
  },
  {
   "cell_type": "code",
   "execution_count": 97,
   "id": "dc6ef0d5",
   "metadata": {},
   "outputs": [
    {
     "name": "stdout",
     "output_type": "stream",
     "text": [
      "RandomForestClassifier()\n",
      "{'accuracy': 0.73, 'precision': 0.7124855576951563, 'recall': 0.73, 'f1': 0.7160718515594158, 'f0.5': 0.7124795230777026, 'f2': 0.7233449659224793, 'time': 0.12402772903442383}\n",
      "{'accuracy': 1.0, 'precision': 1.0, 'recall': 1.0, 'f1': 1.0, 'f0.5': 1.0, 'f2': 1.0, 'time': 0.12402772903442383}\n"
     ]
    }
   ],
   "source": [
    "models = ['RandomForestClassifier()']\n",
    "metrics = {}\n",
    "for model in models:\n",
    "    print(model)\n",
    "    pipeline = Pipeline([\n",
    "                         ('model', eval(model))])\n",
    "\n",
    "    start = time.time()\n",
    "    pipeline.fit(X_train, y_train)\n",
    "    y_pred = pipeline.predict(X_test)\n",
    "    stop = time.time()\n",
    "\n",
    "    metrics[model] = {'accuracy':accuracy_score(y_test, y_pred),\n",
    "                         'precision':precision_score(y_test, y_pred, average='weighted'),\n",
    "                         'recall':recall_score(y_test, y_pred,average='weighted'),\n",
    "                         'f1':fbeta_score(y_test, y_pred,beta = 1, average ='weighted'),\n",
    "                         'f0.5':fbeta_score(y_test, y_pred,beta = 0.5, average ='weighted'),\n",
    "                         'f2':fbeta_score(y_test, y_pred,beta = 2, average ='weighted'),\n",
    "                         'time' : (stop-start)}\n",
    "    print(metrics[model])\n",
    "    \n",
    "    y_pred = pipeline.predict(X_train)\n",
    "    \n",
    "    metrics[model] = {'accuracy':accuracy_score(y_train, y_pred),\n",
    "                         'precision':precision_score(y_train, y_pred, average='weighted'),\n",
    "                         'recall':recall_score(y_train, y_pred,average='weighted'),\n",
    "                         'f1':fbeta_score(y_train, y_pred,beta = 1, average ='weighted'),\n",
    "                         'f0.5':fbeta_score(y_train, y_pred,beta = 0.5, average ='weighted'),\n",
    "                         'f2':fbeta_score(y_train, y_pred,beta = 2, average ='weighted'),\n",
    "                         'time' : (stop-start)}\n",
    "                                        \n",
    "    print(metrics[model])"
   ]
  },
  {
   "cell_type": "markdown",
   "id": "067fbb51",
   "metadata": {},
   "source": [
    "2.3 Понизьте размерность данных до 2 с помощью метода главных компонент. Обучите модель Random Forest, используя данные после уменьшения размерности, и оцените ее эффективность с помощью метрик."
   ]
  },
  {
   "cell_type": "code",
   "execution_count": 99,
   "id": "38f23dfe",
   "metadata": {},
   "outputs": [],
   "source": [
    "import numpy as np\n",
    "from sklearn.decomposition import PCA\n",
    "pca = PCA(n_components=2)\n",
    "X = pca.fit_transform(X)"
   ]
  },
  {
   "cell_type": "code",
   "execution_count": 100,
   "id": "242e3d3d",
   "metadata": {},
   "outputs": [],
   "source": [
    "X_train, X_test, y_train, y_test = train_test_split(X, y, test_size=0.2, random_state=1)"
   ]
  },
  {
   "cell_type": "code",
   "execution_count": 101,
   "id": "0dc3da6d",
   "metadata": {},
   "outputs": [
    {
     "name": "stdout",
     "output_type": "stream",
     "text": [
      "RandomForestClassifier()\n",
      "{'accuracy': 0.675, 'precision': 0.6547219085262563, 'recall': 0.675, 'f1': 0.6620419693301048, 'f0.5': 0.6569011584606769, 'f2': 0.6691990655682648, 'time': 0.12369465827941895}\n",
      "{'accuracy': 1.0, 'precision': 1.0, 'recall': 1.0, 'f1': 1.0, 'f0.5': 1.0, 'f2': 1.0, 'time': 0.12369465827941895}\n"
     ]
    }
   ],
   "source": [
    "models = ['RandomForestClassifier()']\n",
    "metrics = {}\n",
    "for model in models:\n",
    "    print(model)\n",
    "    pipeline = Pipeline([\n",
    "                         ('model', eval(model))])\n",
    "\n",
    "    start = time.time()\n",
    "    pipeline.fit(X_train, y_train)\n",
    "    y_pred = pipeline.predict(X_test)\n",
    "    stop = time.time()\n",
    "\n",
    "    metrics[model] = {'accuracy':accuracy_score(y_test, y_pred),\n",
    "                         'precision':precision_score(y_test, y_pred, average='weighted'),\n",
    "                         'recall':recall_score(y_test, y_pred,average='weighted'),\n",
    "                         'f1':fbeta_score(y_test, y_pred,beta = 1, average ='weighted'),\n",
    "                         'f0.5':fbeta_score(y_test, y_pred,beta = 0.5, average ='weighted'),\n",
    "                         'f2':fbeta_score(y_test, y_pred,beta = 2, average ='weighted'),\n",
    "                         'time' : (stop-start)}\n",
    "    print(metrics[model])\n",
    "    \n",
    "    y_pred = pipeline.predict(X_train)\n",
    "    \n",
    "    metrics[model] = {'accuracy':accuracy_score(y_train, y_pred),\n",
    "                         'precision':precision_score(y_train, y_pred, average='weighted'),\n",
    "                         'recall':recall_score(y_train, y_pred,average='weighted'),\n",
    "                         'f1':fbeta_score(y_train, y_pred,beta = 1, average ='weighted'),\n",
    "                         'f0.5':fbeta_score(y_train, y_pred,beta = 0.5, average ='weighted'),\n",
    "                         'f2':fbeta_score(y_train, y_pred,beta = 2, average ='weighted'),\n",
    "                         'time' : (stop-start)}\n",
    "                                        \n",
    "    print(metrics[model])"
   ]
  },
  {
   "cell_type": "markdown",
   "id": "68a396ff",
   "metadata": {},
   "source": [
    "2.4 Постройте график зависимости точности модели от размерности данных."
   ]
  },
  {
   "cell_type": "code",
   "execution_count": 116,
   "id": "25844a47",
   "metadata": {},
   "outputs": [
    {
     "name": "stdout",
     "output_type": "stream",
     "text": [
      "RandomForestClassifier()\n",
      "{'accuracy': 0.53, 'precision': 0.5516506250691449, 'recall': 0.53, 'f1': 0.539719669117647, 'f0.5': 0.5466176635618898, 'f2': 0.5336159924519401, 'time': 0.1458587646484375}\n",
      "RandomForestClassifier()\n",
      "{'accuracy': 0.665, 'precision': 0.6369996986136227, 'recall': 0.665, 'f1': 0.6463303420643068, 'f0.5': 0.6394405628280456, 'f2': 0.6565413320313279, 'time': 0.15203309059143066}\n",
      "RandomForestClassifier()\n",
      "{'accuracy': 0.705, 'precision': 0.6829430379746836, 'recall': 0.705, 'f1': 0.6885595549521508, 'f0.5': 0.6836723732126676, 'f2': 0.6972934394866379, 'time': 0.14603281021118164}\n",
      "RandomForestClassifier()\n",
      "{'accuracy': 0.72, 'precision': 0.6957784778643675, 'recall': 0.72, 'f1': 0.6980482456140352, 'f0.5': 0.6937100596402093, 'f2': 0.7092965722951967, 'time': 0.18404126167297363}\n",
      "RandomForestClassifier()\n",
      "{'accuracy': 0.73, 'precision': 0.7108651633686149, 'recall': 0.73, 'f1': 0.7138, 'f0.5': 0.7101416278546324, 'f2': 0.7221617208682235, 'time': 0.18404078483581543}\n",
      "RandomForestClassifier()\n",
      "{'accuracy': 0.735, 'precision': 0.716, 'recall': 0.735, 'f1': 0.7179344944461223, 'f0.5': 0.714575769268997, 'f2': 0.7266459484346225, 'time': 0.1910414695739746}\n",
      "RandomForestClassifier()\n",
      "{'accuracy': 0.75, 'precision': 0.7326728569059858, 'recall': 0.75, 'f1': 0.7304002192982456, 'f0.5': 0.7284223062911588, 'f2': 0.7400514432839054, 'time': 0.18604040145874023}\n",
      "RandomForestClassifier()\n",
      "{'accuracy': 0.76, 'precision': 0.7457524160147263, 'recall': 0.76, 'f1': 0.7456, 'f0.5': 0.7435947157920253, 'f2': 0.7527630061266984, 'time': 0.19404339790344238}\n",
      "RandomForestClassifier()\n",
      "{'accuracy': 0.755, 'precision': 0.7403722121760096, 'recall': 0.755, 'f1': 0.7413460710619556, 'f0.5': 0.738962136193445, 'f2': 0.7482335738057754, 'time': 0.22305059432983398}\n"
     ]
    }
   ],
   "source": [
    "metrics = {}\n",
    "for i in range(1,10):\n",
    "    y = df['Risk']\n",
    "    X = df.drop('Risk', axis = 1)\n",
    "    pca = PCA(n_components=i)\n",
    "    X = pca.fit_transform(X)\n",
    "    X_train, X_test, y_train, y_test = train_test_split(X, y, test_size=0.2, random_state=1)\n",
    "    models = ['RandomForestClassifier()']\n",
    "    for model in models:\n",
    "        print(model)\n",
    "        pipeline = Pipeline([\n",
    "                             ('model', eval(model))])\n",
    "\n",
    "        start = time.time()\n",
    "        pipeline.fit(X_train, y_train)\n",
    "        y_pred = pipeline.predict(X_test)\n",
    "        stop = time.time()\n",
    "\n",
    "        metrics[i] = {'accuracy':accuracy_score(y_test, y_pred),\n",
    "                             'precision':precision_score(y_test, y_pred, average='weighted'),\n",
    "                             'recall':recall_score(y_test, y_pred,average='weighted'),\n",
    "                             'f1':fbeta_score(y_test, y_pred,beta = 1, average ='weighted'),\n",
    "                             'f0.5':fbeta_score(y_test, y_pred,beta = 0.5, average ='weighted'),\n",
    "                             'f2':fbeta_score(y_test, y_pred,beta = 2, average ='weighted'),\n",
    "                             'time' : (stop-start)}\n",
    "        print(metrics[i])"
   ]
  },
  {
   "cell_type": "code",
   "execution_count": 117,
   "id": "de742274",
   "metadata": {},
   "outputs": [
    {
     "data": {
      "text/plain": [
       "[<matplotlib.lines.Line2D at 0x17e6dac0430>]"
      ]
     },
     "execution_count": 117,
     "metadata": {},
     "output_type": "execute_result"
    },
    {
     "data": {
      "image/png": "[encoded data removed]",
      "text/plain": [
       "<Figure size 432x288 with 1 Axes>"
      ]
     },
     "metadata": {
      "needs_background": "light"
     },
     "output_type": "display_data"
    }
   ],
   "source": [
    "plt.plot(range(1,10),[metrics[i]['accuracy'] for i in metrics.keys()])"
   ]
  },
  {
   "cell_type": "markdown",
   "id": "bb1bdbc7",
   "metadata": {},
   "source": [
    "2.5 Используя модель из 2.2, получите прогнозы для всех объектов. Используя метод главных компонент, понизьте размерность данных до 2. Визуализируйте полученные точки на плоскости и раскрасьте их в цвет, соответствующих предсказанному классу."
   ]
  },
  {
   "cell_type": "code",
   "execution_count": 126,
   "id": "77873942",
   "metadata": {},
   "outputs": [
    {
     "name": "stdout",
     "output_type": "stream",
     "text": [
      "RandomForestClassifier()\n",
      "{'accuracy': 0.932, 'precision': 0.9315079365079364, 'recall': 0.932, 'f1': 0.9313064594463331, 'f0.5': 0.931316389959871, 'f2': 0.9316185503685506, 'time': 0.13903069496154785}\n"
     ]
    }
   ],
   "source": [
    "metrics = {}\n",
    "i = 2\n",
    "y = df['Risk']\n",
    "X = df.drop('Risk', axis = 1)\n",
    "pca = PCA(n_components=2)\n",
    "X = pca.fit_transform(X)\n",
    "X_train, X_test, y_train, y_test = train_test_split(X, y, test_size=0.2, random_state=1)\n",
    "models = ['RandomForestClassifier()']\n",
    "for model in models:\n",
    "    print(model)\n",
    "    pipeline = Pipeline([\n",
    "                         ('model', eval(model))])\n",
    "\n",
    "    start = time.time()\n",
    "    pipeline.fit(X_train, y_train)\n",
    "    y_pred = pipeline.predict(X)\n",
    "    stop = time.time()\n",
    "\n",
    "    metrics[i] = {'accuracy':accuracy_score(y, y_pred),\n",
    "                         'precision':precision_score(y, y_pred, average='weighted'),\n",
    "                         'recall':recall_score(y, y_pred,average='weighted'),\n",
    "                         'f1':fbeta_score(y, y_pred,beta = 1, average ='weighted'),\n",
    "                         'f0.5':fbeta_score(y, y_pred,beta = 0.5, average ='weighted'),\n",
    "                         'f2':fbeta_score(y, y_pred,beta = 2, average ='weighted'),\n",
    "                         'time' : (stop-start)}\n",
    "    print(metrics[i])"
   ]
  },
  {
   "cell_type": "code",
   "execution_count": 128,
   "id": "e710374d",
   "metadata": {},
   "outputs": [
    {
     "data": {
      "text/plain": [
       "<matplotlib.collections.PathCollection at 0x17e707869d0>"
      ]
     },
     "execution_count": 128,
     "metadata": {},
     "output_type": "execute_result"
    },
    {
     "data": {
      "image/png": "[encoded data removed]",
      "text/plain": [
       "<Figure size 432x288 with 1 Axes>"
      ]
     },
     "metadata": {
      "needs_background": "light"
     },
     "output_type": "display_data"
    }
   ],
   "source": [
    "plt.scatter(X[:,0],X[:,1], c = y_pred)"
   ]
  },
  {
   "cell_type": "markdown",
   "id": "a4b9a366",
   "metadata": {},
   "source": [
    "2.6 Повторите 2.5, используя алгоритм t-SNE."
   ]
  },
  {
   "cell_type": "code",
   "execution_count": 132,
   "id": "f92ae929",
   "metadata": {},
   "outputs": [],
   "source": [
    "from sklearn.manifold import TSNE"
   ]
  },
  {
   "cell_type": "code",
   "execution_count": 133,
   "id": "6d95c1a1",
   "metadata": {},
   "outputs": [
    {
     "name": "stdout",
     "output_type": "stream",
     "text": [
      "RandomForestClassifier()\n",
      "{'accuracy': 0.918, 'precision': 0.9172358171374616, 'recall': 0.918, 'f1': 0.9173399891649253, 'f0.5': 0.9172090762155758, 'f2': 0.9176709321116561, 'time': 0.17103886604309082}\n"
     ]
    }
   ],
   "source": [
    "metrics = {}\n",
    "i = 2\n",
    "y = df['Risk']\n",
    "X = df.drop('Risk', axis = 1)\n",
    "TSNE = TSNE(n_components=2)\n",
    "X = TSNE.fit_transform(X)\n",
    "X_train, X_test, y_train, y_test = train_test_split(X, y, test_size=0.2, random_state=1)\n",
    "models = ['RandomForestClassifier()']\n",
    "for model in models:\n",
    "    print(model)\n",
    "    pipeline = Pipeline([\n",
    "                         ('model', eval(model))])\n",
    "\n",
    "    start = time.time()\n",
    "    pipeline.fit(X_train, y_train)\n",
    "    y_pred = pipeline.predict(X)\n",
    "    stop = time.time()\n",
    "\n",
    "    metrics[i] = {'accuracy':accuracy_score(y, y_pred),\n",
    "                         'precision':precision_score(y, y_pred, average='weighted'),\n",
    "                         'recall':recall_score(y, y_pred,average='weighted'),\n",
    "                         'f1':fbeta_score(y, y_pred,beta = 1, average ='weighted'),\n",
    "                         'f0.5':fbeta_score(y, y_pred,beta = 0.5, average ='weighted'),\n",
    "                         'f2':fbeta_score(y, y_pred,beta = 2, average ='weighted'),\n",
    "                         'time' : (stop-start)}\n",
    "    print(metrics[i])"
   ]
  },
  {
   "cell_type": "code",
   "execution_count": 134,
   "id": "bd904565",
   "metadata": {},
   "outputs": [
    {
     "data": {
      "text/plain": [
       "<matplotlib.collections.PathCollection at 0x17e707c94c0>"
      ]
     },
     "execution_count": 134,
     "metadata": {},
     "output_type": "execute_result"
    },
    {
     "data": {
      "image/png": "[encoded data removed]",
      "text/plain": [
       "<Figure size 432x288 with 1 Axes>"
      ]
     },
     "metadata": {
      "needs_background": "light"
     },
     "output_type": "display_data"
    }
   ],
   "source": [
    "plt.scatter(X[:,0],X[:,1], c = y_pred)"
   ]
  },
  {
   "cell_type": "code",
   "execution_count": null,
   "id": "2a9a6d9a",
   "metadata": {},
   "outputs": [],
   "source": []
  }
 ],
 "metadata": {
  "kernelspec": {
   "display_name": "Python 3 (ipykernel)",
   "language": "python",
   "name": "python3"
  },
  "language_info": {
   "codemirror_mode": {
    "name": "ipython",
    "version": 3
   },
   "file_extension": ".py",
   "mimetype": "text/x-python",
   "name": "python",
   "nbconvert_exporter": "python",
   "pygments_lexer": "ipython3",
   "version": "3.9.7"
  }
 },
 "nbformat": 4,
 "nbformat_minor": 5
}
